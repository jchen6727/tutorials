{
  "cells": [
    {
      "cell_type": "markdown",
      "metadata": {
        "id": "view-in-github",
        "colab_type": "text"
      },
      "source": [
        "<a href=\"https://colab.research.google.com/github/jchen6727/tutorials/blob/master/containers.ipynb\" target=\"_parent\"><img src=\"https://colab.research.google.com/assets/colab-badge.svg\" alt=\"Open In Colab\"/></a>"
      ]
    },
    {
      "cell_type": "markdown",
      "metadata": {
        "id": "-bdent77yMA5"
      },
      "source": [
        "# NetPyNE Tutorial 1\n",
        "Python basics: containers (lists, tuples, dictionaries, sets)\n",
        "see [python's docs](https://docs.python.org/3/tutorial/datastructures.html)"
      ]
    },
    {
      "cell_type": "markdown",
      "metadata": {
        "id": "G2UFrFseyMA9"
      },
      "source": [
        "Let's explore what a list can do using the [dir() command](https://docs.python.org/3/library/functions.html#dir)."
      ]
    },
    {
      "cell_type": "code",
      "execution_count": null,
      "outputs": [
        {
          "output_type": "execute_result",
          "data": {
            "text/plain": [
              "['__add__',\n",
              " '__class__',\n",
              " '__contains__',\n",
              " '__delattr__',\n",
              " '__delitem__',\n",
              " '__dir__',\n",
              " '__doc__',\n",
              " '__eq__',\n",
              " '__format__',\n",
              " '__ge__',\n",
              " '__getattribute__',\n",
              " '__getitem__',\n",
              " '__gt__',\n",
              " '__hash__',\n",
              " '__iadd__',\n",
              " '__imul__',\n",
              " '__init__',\n",
              " '__init_subclass__',\n",
              " '__iter__',\n",
              " '__le__',\n",
              " '__len__',\n",
              " '__lt__',\n",
              " '__mul__',\n",
              " '__ne__',\n",
              " '__new__',\n",
              " '__reduce__',\n",
              " '__reduce_ex__',\n",
              " '__repr__',\n",
              " '__reversed__',\n",
              " '__rmul__',\n",
              " '__setattr__',\n",
              " '__setitem__',\n",
              " '__sizeof__',\n",
              " '__str__',\n",
              " '__subclasshook__',\n",
              " 'append',\n",
              " 'clear',\n",
              " 'copy',\n",
              " 'count',\n",
              " 'extend',\n",
              " 'index',\n",
              " 'insert',\n",
              " 'pop',\n",
              " 'remove',\n",
              " 'reverse',\n",
              " 'sort']"
            ]
          },
          "metadata": {},
          "execution_count": 1
        }
      ],
      "source": [
        "dir([])"
      ],
      "metadata": {
        "colab": {
          "base_uri": "https://localhost:8080/"
        },
        "id": "aSq31e4SyMA9",
        "outputId": "ab9907c5-5f43-471a-e8fe-3b6901a30f1d"
      }
    },
    {
      "cell_type": "markdown",
      "source": [
        "each of the strings returned by dir() are attributes of these objects.\n",
        "the attributes starting and ending with '__' are dunder / magic methods which have special properties.\n",
        "for instance, some of them are mapped to [operators](https://docs.python.org/3/library/operator.html#mapping-operators-to-functions)"
      ],
      "metadata": {
        "collapsed": false,
        "id": "dYjsb1TYyMA-"
      }
    },
    {
      "cell_type": "code",
      "execution_count": null,
      "outputs": [
        {
          "output_type": "stream",
          "name": "stdout",
          "text": [
            "['foo', 'quux', 'baz']\n",
            "['qux', 'qux']\n",
            "quux\n",
            "Exception: list index out of range\n"
          ]
        }
      ],
      "source": [
        "# make some lists\n",
        "my_list0 = ['foo', 'bar', 'bar']\n",
        "my_list1 = ['qux', 'qux']\n",
        "\n",
        "# do a list operation\n",
        "my_list0[2] = 'baz'\n",
        "my_list0.__setitem__(1, 'quux')\n",
        "\n",
        "# try to guess the output\n",
        "print(my_list0)\n",
        "print(my_list1)\n",
        "print(my_list0[1])\n",
        "try: print(my_list0[3])\n",
        "except Exception as e: print(\"Exception: {}\".format(e))"
      ],
      "metadata": {
        "colab": {
          "base_uri": "https://localhost:8080/"
        },
        "id": "S2vHB6IwyMA_",
        "outputId": "e7cee2c5-38a5-4e17-9ce5-b6c9687cda97"
      }
    },
    {
      "cell_type": "code",
      "execution_count": null,
      "outputs": [
        {
          "output_type": "stream",
          "name": "stdout",
          "text": [
            "qux\n",
            "['baz', 'qux', 'qux']\n",
            "['baz', 'qux']\n",
            "['baz', 'qux']\n",
            "Exception: 'NoneType' object is not subscriptable\n",
            "Exception: list index out of range\n",
            "qux\n"
          ]
        }
      ],
      "source": [
        "# make some more lists\n",
        "my_list2 = my_list0 + my_list1\n",
        "my_list3 = my_list0.append(my_list1)\n",
        "\n",
        "# try to guess the output\n",
        "print(my_list2[4])\n",
        "print(my_list2[2:5])\n",
        "print(my_list2[slice(2,4,1)])\n",
        "print(my_list2.__getitem__(slice(2,4,1)))\n",
        "try: print(my_list3[4])\n",
        "except Exception as e: print(\"Exception: {}\".format(e))\n",
        "try: print(my_list0[4])\n",
        "except Exception as e: print(\"Exception: {}\".format(e))\n",
        "print(my_list0[3][1])"
      ],
      "metadata": {
        "colab": {
          "base_uri": "https://localhost:8080/"
        },
        "id": "J7uUGmLRyMA_",
        "outputId": "2bebc7a8-6069-4baf-8c8c-25e47c8c3f4d"
      }
    },
    {
      "cell_type": "markdown",
      "source": [
        "let's explore what a tuple can do using the dir() command\n"
      ],
      "metadata": {
        "collapsed": false,
        "id": "8eiTAJLkyMBA"
      }
    },
    {
      "cell_type": "code",
      "execution_count": null,
      "outputs": [
        {
          "output_type": "execute_result",
          "data": {
            "text/plain": [
              "['__add__',\n",
              " '__class__',\n",
              " '__contains__',\n",
              " '__delattr__',\n",
              " '__dir__',\n",
              " '__doc__',\n",
              " '__eq__',\n",
              " '__format__',\n",
              " '__ge__',\n",
              " '__getattribute__',\n",
              " '__getitem__',\n",
              " '__getnewargs__',\n",
              " '__gt__',\n",
              " '__hash__',\n",
              " '__init__',\n",
              " '__init_subclass__',\n",
              " '__iter__',\n",
              " '__le__',\n",
              " '__len__',\n",
              " '__lt__',\n",
              " '__mul__',\n",
              " '__ne__',\n",
              " '__new__',\n",
              " '__reduce__',\n",
              " '__reduce_ex__',\n",
              " '__repr__',\n",
              " '__rmul__',\n",
              " '__setattr__',\n",
              " '__sizeof__',\n",
              " '__str__',\n",
              " '__subclasshook__',\n",
              " 'count',\n",
              " 'index']"
            ]
          },
          "metadata": {},
          "execution_count": 4
        }
      ],
      "source": [
        "dir(())"
      ],
      "metadata": {
        "colab": {
          "base_uri": "https://localhost:8080/"
        },
        "id": "fFBcTVslyMBA",
        "outputId": "11867446-a55f-479e-f59e-c99eb58d304c"
      }
    },
    {
      "cell_type": "code",
      "execution_count": null,
      "outputs": [],
      "source": [
        "# make a tuple\n",
        "my_tuple0 = tuple(my_list2) # foo, bar, baz, qux, quux\n",
        "my_list4 = my_list2"
      ],
      "metadata": {
        "id": "Ugb5FPenyMBB"
      }
    },
    {
      "cell_type": "code",
      "execution_count": null,
      "outputs": [
        {
          "output_type": "stream",
          "name": "stdout",
          "text": [
            "The Three-Body Problem\n",
            "Liu, C.\n",
            "dict_keys(['title', 'authors', 'isbn', 'published', 'publisher'])\n",
            "Publishing\n",
            "9780765377067\n",
            "Martinsen, M\n"
          ]
        }
      ],
      "source": [
        "# make some dictionaries\n",
        "book0 = {'title': 'The Three-Body Problem', 'authors': ['Liu, C.', 'Liu, K'], 'isbn':9780765377067, 'published': 2014, 'publisher': 'TOR Publishing Group'}\n",
        "book1 = {'title': 'The Dark Forest', 'authors': ['Liu, C.', 'Liu, K', 'Martinsen, M'], 'isbn':9780765377081, 'published': 2015, 'publisher': 'TOR Publishing Group'}\n",
        "book2 = {'title': 'Deaths End', 'authors': ['Liu, C.', 'Liu, K', 'Martinsen, M'], 'isbn':9780765377104, 'published':2016, 'publisher': 'TOR Publishing Group'}\n",
        "trilogy0 = {'book0': book0, 'book1': book1}\n",
        "trilogy0['book2'] = book2\n",
        "\n",
        "# try to guess the output\n",
        "print(book0['title'])\n",
        "print(book1['authors'][0])\n",
        "print(book2.keys())\n",
        "try: print(book2.__getitem__('publisher').__getitem__(slice(4,14,1)))\n",
        "except Exception as e: print(\"Exception: {}\".format(e))\n",
        "print(trilogy0['book0']['isbn'])\n",
        "foo = 'book2'\n",
        "bar = 'authors'\n",
        "baz = 2\n",
        "print(trilogy0[foo][bar][baz])"
      ],
      "metadata": {
        "colab": {
          "base_uri": "https://localhost:8080/"
        },
        "id": "zlsxlaQqyMBC",
        "outputId": "a316148b-7d93-4cd1-9844-15aa22bc0278"
      }
    },
    {
      "cell_type": "code",
      "execution_count": null,
      "outputs": [
        {
          "output_type": "stream",
          "name": "stdout",
          "text": [
            "{'book0': {'authors': ['Liu, C.', 'Liu, K'],\n",
            "           'isbn': 9780765377067,\n",
            "           'published': 2014,\n",
            "           'publisher': 'TOR Publishing Group',\n",
            "           'tags': ['science fiction'],\n",
            "           'title': 'The Three-Body Problem'},\n",
            " 'book1': {'authors': ['Liu, C.', 'Liu, K', 'Martinsen, M'],\n",
            "           'isbn': 9780765377081,\n",
            "           'published': 2015,\n",
            "           'publisher': 'TOR Publishing Group',\n",
            "           'tags': ['science fiction'],\n",
            "           'title': 'The Dark Forest'},\n",
            " 'book2': {'authors': ['Liu, C.', 'Liu, K', 'Martinsen, M'],\n",
            "           'isbn': 9780765377104,\n",
            "           'published': 2016,\n",
            "           'publisher': 'TOR Publishing Group',\n",
            "           'tags': ['science fiction'],\n",
            "           'title': 'Deaths End'}}\n",
            "*-*-*-*-*-*-*-*-*-*-*-*-*-*-*-*-*-*-*-*-*-*-*-*-*-*-*-*-*-*-*-*-*-*-*-*-*-*-*-*-\n",
            "{'book0': {'authors': ['Liu, C.', 'Liu, K'],\n",
            "           'isbn': 9780765377067,\n",
            "           'published': 2014,\n",
            "           'publisher': 'TOR Publishing Group',\n",
            "           'tags': ['science fiction', 'romance'],\n",
            "           'title': 'The Three-Body Problem'},\n",
            " 'book1': {'authors': ['Liu, C.', 'Liu, K', 'Martinsen, M'],\n",
            "           'isbn': 9780765377081,\n",
            "           'published': 2015,\n",
            "           'publisher': 'TOR Publishing Group',\n",
            "           'tags': ['science fiction', 'romance'],\n",
            "           'title': 'The Dark Forest'},\n",
            " 'book2': {'authors': ['Liu, C.', 'Liu, K', 'Martinsen, M'],\n",
            "           'isbn': 9780765377104,\n",
            "           'published': 2016,\n",
            "           'publisher': 'TOR Publishing Group',\n",
            "           'tags': ['science fiction', 'romance'],\n",
            "           'title': 'Deaths End'}}\n"
          ]
        }
      ],
      "source": [
        "# do some dictionary operations\n",
        "tags = ['science fiction']\n",
        "for book in trilogy0:\n",
        "    trilogy0[book]['tags'] = tags\n",
        "\n",
        "# try to guess the output\n",
        "from pprint import pprint\n",
        "pprint(trilogy0)\n",
        "print('*-'*40)\n",
        "trilogy0['book2']['tags'].append('romance')\n",
        "pprint(trilogy0)\n"
      ],
      "metadata": {
        "colab": {
          "base_uri": "https://localhost:8080/"
        },
        "id": "-Aul4MGmyMBC",
        "outputId": "83d473cb-2d27-4b49-81c3-5460b20bfc9f"
      }
    },
    {
      "cell_type": "code",
      "source": [],
      "metadata": {
        "id": "ecfFV_hAzfXr"
      },
      "execution_count": null,
      "outputs": []
    }
  ],
  "metadata": {
    "kernelspec": {
      "display_name": "tvb",
      "language": "python",
      "name": "python3"
    },
    "language_info": {
      "codemirror_mode": {
        "name": "ipython",
        "version": 3
      },
      "file_extension": ".py",
      "mimetype": "text/x-python",
      "name": "python",
      "nbconvert_exporter": "python",
      "pygments_lexer": "ipython3",
      "version": "3.10.9"
    },
    "orig_nbformat": 4,
    "vscode": {
      "interpreter": {
        "hash": "835cdcc604f684e14889bc32aad55238e3a77d7f51b646849484f9557bf213e6"
      }
    },
    "colab": {
      "provenance": [],
      "include_colab_link": true
    }
  },
  "nbformat": 4,
  "nbformat_minor": 0
}