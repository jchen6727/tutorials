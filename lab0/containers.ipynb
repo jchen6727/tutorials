{
 "cells": [
  {
   "attachments": {},
   "cell_type": "markdown",
   "metadata": {},
   "source": [
    "# NetPyNE Tutorial 1\n",
    "Python basics: containers (lists, tuples, dictionaries, sets)\n",
    "see [python's docs](https://docs.python.org/3/tutorial/datastructures.html)"
   ]
  },
  {
   "attachments": {},
   "cell_type": "markdown",
   "metadata": {},
   "source": [
    "Let's explore what a list can do using the [dir() command](https://docs.python.org/3/library/functions.html#dir)."
   ]
  },
  {
   "cell_type": "code",
   "execution_count": 3,
   "outputs": [
    {
     "data": {
      "text/plain": "['__add__',\n '__class__',\n '__class_getitem__',\n '__contains__',\n '__delattr__',\n '__delitem__',\n '__dir__',\n '__doc__',\n '__eq__',\n '__format__',\n '__ge__',\n '__getattribute__',\n '__getitem__',\n '__gt__',\n '__hash__',\n '__iadd__',\n '__imul__',\n '__init__',\n '__init_subclass__',\n '__iter__',\n '__le__',\n '__len__',\n '__lt__',\n '__mul__',\n '__ne__',\n '__new__',\n '__reduce__',\n '__reduce_ex__',\n '__repr__',\n '__reversed__',\n '__rmul__',\n '__setattr__',\n '__setitem__',\n '__sizeof__',\n '__str__',\n '__subclasshook__',\n 'append',\n 'clear',\n 'copy',\n 'count',\n 'extend',\n 'index',\n 'insert',\n 'pop',\n 'remove',\n 'reverse',\n 'sort']"
     },
     "execution_count": 3,
     "metadata": {},
     "output_type": "execute_result"
    }
   ],
   "source": [
    "dir([])"
   ],
   "metadata": {
    "collapsed": false
   }
  },
  {
   "cell_type": "markdown",
   "source": [
    "each of the strings returned by dir() are attributes of these objects.\n",
    "the attributes starting and ending with '__' are dunder / magic methods which have special properties.\n",
    "for instance, some of them are mapped to [operators](https://docs.python.org/3/library/operator.html#mapping-operators-to-functions)"
   ],
   "metadata": {
    "collapsed": false
   }
  },
  {
   "cell_type": "code",
   "execution_count": 32,
   "outputs": [
    {
     "name": "stdout",
     "output_type": "stream",
     "text": [
      "['foo', 'bar', 'baz']\n",
      "['qux', 'quux']\n",
      "bar\n",
      "Exception: list index out of range\n",
      "quux\n",
      "['baz', 'qux', 'quux']\n",
      "['baz', 'qux']\n",
      "['baz', 'qux']\n",
      "Exception: 'NoneType' object is not subscriptable\n",
      "Exception: list index out of range\n",
      "quux\n"
     ]
    }
   ],
   "source": [
    "# make some lists\n",
    "my_list0 = ['foo', 'bar', 'baz']\n",
    "my_list1 = ['qux', 'quux']\n",
    "\n",
    "# try to guess the output\n",
    "print(my_list0)\n",
    "print(my_list1)\n",
    "print(my_list0[1])\n",
    "try: print(my_list0[3])\n",
    "except Exception as e: print(\"Exception: {}\".format(e))\n",
    "\n",
    "# make some more lists\n",
    "my_list2 = my_list0 + my_list1\n",
    "my_list3 = my_list0.append(my_list1)\n",
    "\n",
    "# try to guess the output\n",
    "print(my_list2[4])\n",
    "print(my_list2[2:5])\n",
    "print(my_list2[slice(2,4,1)])\n",
    "print(my_list2.__getitem__(slice(2,4,1)))\n",
    "try: print(my_list3[4])\n",
    "except Exception as e: print(\"Exception: {}\".format(e))\n",
    "try: print(my_list0[4])\n",
    "except Exception as e: print(\"Exception: {}\".format(e))\n",
    "print(my_list0[3][1])"
   ],
   "metadata": {
    "collapsed": false
   }
  },
  {
   "cell_type": "code",
   "execution_count": 4,
   "outputs": [
    {
     "data": {
      "text/plain": [
       "['__add__',\n",
       " '__class__',\n",
       " '__class_getitem__',\n",
       " '__contains__',\n",
       " '__delattr__',\n",
       " '__delitem__',\n",
       " '__dir__',\n",
       " '__doc__',\n",
       " '__eq__',\n",
       " '__format__',\n",
       " '__ge__',\n",
       " '__getattribute__',\n",
       " '__getitem__',\n",
       " '__gt__',\n",
       " '__hash__',\n",
       " '__iadd__',\n",
       " '__imul__',\n",
       " '__init__',\n",
       " '__init_subclass__',\n",
       " '__iter__',\n",
       " '__le__',\n",
       " '__len__',\n",
       " '__lt__',\n",
       " '__mul__',\n",
       " '__ne__',\n",
       " '__new__',\n",
       " '__reduce__',\n",
       " '__reduce_ex__',\n",
       " '__repr__',\n",
       " '__reversed__',\n",
       " '__rmul__',\n",
       " '__setattr__',\n",
       " '__setitem__',\n",
       " '__sizeof__',\n",
       " '__str__',\n",
       " '__subclasshook__',\n",
       " 'append',\n",
       " 'clear',\n",
       " 'copy',\n",
       " 'count',\n",
       " 'extend',\n",
       " 'index',\n",
       " 'insert',\n",
       " 'pop',\n",
       " 'remove',\n",
       " 'reverse',\n",
       " 'sort']"
      ]
     },
     "execution_count": 4,
     "metadata": {},
     "output_type": "execute_result"
    }
   ],
   "source": [
    "dir(trilogy0)"
   ],
   "metadata": {
    "collapsed": false
   }
  },
  {
   "cell_type": "code",
   "execution_count": 2,
   "outputs": [],
   "source": [
    "book0 = {'title': 'The Three-Body Problem', 'author': 'Liu, C. and Liu, K', 'isbn':9780765377067, 'published': 2014, 'publisher': 'TOR Publishing Group'}\n",
    "book1 = {'title': 'The Dark Forest', 'author': 'Liu, C. and Liu, K and Martinsen, M', 'isbn':9780765377081, 'published': 2015, 'publisher': 'TOR Publishing Group'}\n",
    "book2 = {'title': 'Deaths End', 'author': 'Liu, C. and Liu, K and Martinsen, M', 'isbn':9780765377104, 'published':2016, 'publisher': 'TOR Publishing Group'}\n",
    "trilogy0 = [book0, book1, book2]"
   ],
   "metadata": {
    "collapsed": false
   }
  },
  {
   "attachments": {},
   "cell_type": "markdown",
   "metadata": {},
   "source": []
  }
 ],
 "metadata": {
  "kernelspec": {
   "display_name": "tvb",
   "language": "python",
   "name": "python3"
  },
  "language_info": {
   "codemirror_mode": {
    "name": "ipython",
    "version": 3
   },
   "file_extension": ".py",
   "mimetype": "text/x-python",
   "name": "python",
   "nbconvert_exporter": "python",
   "pygments_lexer": "ipython3",
   "version": "3.10.9"
  },
  "orig_nbformat": 4,
  "vscode": {
   "interpreter": {
    "hash": "835cdcc604f684e14889bc32aad55238e3a77d7f51b646849484f9557bf213e6"
   }
  }
 },
 "nbformat": 4,
 "nbformat_minor": 2
}
