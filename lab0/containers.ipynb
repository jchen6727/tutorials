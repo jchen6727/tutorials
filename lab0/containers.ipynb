{
  "cells": [
    {
      "cell_type": "markdown",
      "metadata": {
        "id": "view-in-github",
        "colab_type": "text"
      },
      "source": [
        "<a href=\"https://colab.research.google.com/github/jchen6727/tutorials/blob/master/lab0/containers.ipynb\" target=\"_parent\"><img src=\"https://colab.research.google.com/assets/colab-badge.svg\" alt=\"Open In Colab\"/></a>"
      ]
    },
    {
      "cell_type": "markdown",
      "metadata": {
        "id": "-bdent77yMA5"
      },
      "source": [
        "#NetPyNE Tutorial 0"
      ]
    },
    {
      "cell_type": "markdown",
      "source": [
        "Python basics: containers (lists, tuples, dictionaries, sets), control flow.\n",
        "\n",
        "References:\n",
        "\n",
        "[python's docs](https://docs.python.org/3/tutorial/datastructures.html)\n",
        "\n",
        "[w3schools reference](https://www.w3schools.com/python/)\n",
        "\n",
        "[w3schools exercises](https://www.w3schools.com/python/exercise.asp)"
      ],
      "metadata": {
        "id": "VmaLXUk9weRH"
      }
    },
    {
      "cell_type": "markdown",
      "metadata": {
        "id": "G2UFrFseyMA9"
      },
      "source": [
        "##Lists"
      ]
    },
    {
      "cell_type": "markdown",
      "source": [
        "Let's explore what a [list](https://docs.python.org/3/library/stdtypes.html#lists) can do using the [dir()](https://docs.python.org/3/library/functions.html#dir) command."
      ],
      "metadata": {
        "id": "WUxIFTwlwVec"
      }
    },
    {
      "cell_type": "code",
      "execution_count": null,
      "outputs": [],
      "source": [
        "dir([])"
      ],
      "metadata": {
        "id": "aSq31e4SyMA9"
      }
    },
    {
      "cell_type": "markdown",
      "source": [
        "each of the [strings](https://docs.python.org/3/library/stdtypes.html#text-sequence-type-str) returned by dir() are attributes of these objects.\n",
        "the attributes starting and ending with '__' are dunder / magic methods which have special properties.\n",
        "for instance, some of them are mapped to [operators](https://docs.python.org/3/library/operator.html#mapping-operators-to-functions)"
      ],
      "metadata": {
        "collapsed": false,
        "id": "dYjsb1TYyMA-"
      }
    },
    {
      "cell_type": "code",
      "execution_count": null,
      "outputs": [],
      "source": [
        "# make some lists\n",
        "my_list0 = ['foo', 'bar', 'bar']\n",
        "my_list1 = ['qux', 'qux']\n",
        "\n",
        "# do a list operation\n",
        "my_list0[2] = 'baz'\n",
        "my_list1.__setitem__(1, 'quux')\n",
        "\n",
        "# try to guess the output\n",
        "print(\"my_list0 =\\n{}\\n\".format(my_list0))\n",
        "print(\"my_list1 =\\n{}\\n\".format(my_list1))\n",
        "print(\"my_list0[1] =\\n{}\\n\".format(my_list0[1]))\n",
        "try: print(\"my_list0[3] =\\n{}\\n\".format(my_list0[3]))\n",
        "except Exception as e: print(\"attempting to access my_list0[3] causes Exception: {}\".format(e))"
      ],
      "metadata": {
        "id": "S2vHB6IwyMA_"
      }
    },
    {
      "cell_type": "markdown",
      "source": [
        "Try the exercises on [w3schools](https://www.w3schools.com/python/python_lists.asp)."
      ],
      "metadata": {
        "id": "64vbHea7qa4a"
      }
    },
    {
      "cell_type": "code",
      "execution_count": null,
      "outputs": [],
      "source": [
        "# make some more lists\n",
        "my_list0 = ['foo', 'bar', 'baz']\n",
        "my_list1 = ['qux', 'quux']\n",
        "my_list2 = my_list0 + my_list1\n",
        "my_list3 = my_list0.append(my_list1)\n",
        "\n",
        "# try to guess the output\n",
        "print(\"my_list2[4] =\\n{}\\n\".format(             my_list2[4]))\n",
        "print(\"my_list2[2:5] =\\n{}\\n\".format(           my_list2[2:5]))\n",
        "print(\"my_list2[slice(2,4,1)] =\\n{}\\n\".format(  my_list2[slice(2,4,1)]))\n",
        "print(\"my_list2.__getitem__(slice(2,4,1)) =\\n{}\\n\".format(\n",
        "                                                my_list2.__getitem__(slice(2,4,1))))\n",
        "print(\"my_list3 =\\n{}\\n\".format(                my_list3))\n",
        "try: print(\"my_list0[4] =\\n{}\\n\".format(        my_list0[4]))\n",
        "except Exception as e: print(\"attempting to access my_list0[4] causes Exception: {}\\n\".format(e))\n",
        "print(\"my_list0 =\\n{}\\n\".format(                my_list0))\n",
        "print(\"my_list0[3][1] =\\n{}\\n\".format(          my_list0[3][1]))"
      ],
      "metadata": {
        "id": "J7uUGmLRyMA_"
      }
    },
    {
      "cell_type": "markdown",
      "source": [
        "##Tuples\n",
        "`(1 , 2 , [3, 4])`"
      ],
      "metadata": {
        "id": "jz4T6F0nwSZN"
      }
    },
    {
      "cell_type": "markdown",
      "source": [
        "let's explore what a [tuple](https://www.w3schools.com/python/python_tuples.asp) can do using the dir() command,\n",
        "\n",
        "while we're at it, we can compare the attributes of the two.\n"
      ],
      "metadata": {
        "collapsed": false,
        "id": "8eiTAJLkyMBA"
      }
    },
    {
      "cell_type": "code",
      "execution_count": null,
      "outputs": [],
      "source": [
        "from itertools import zip_longest as zipl\n",
        "print(\"{:<20}|     {:<20}\".format(\"list\", \"tuple\"))\n",
        "print(\"-\"*45)\n",
        "print(\"\\n\".join(\"{:<20}|     {:<20}\".format(li, ti) for li, ti in zipl(dir([]), dir(()), fillvalue = ' ')))"
      ],
      "metadata": {
        "id": "fFBcTVslyMBA"
      }
    },
    {
      "cell_type": "markdown",
      "source": [
        "notice that a list has significantly more attributes,\n",
        "\n",
        "discussion -- what's the significance of these elements?\n",
        "\n",
        "hint: [mutable vs. immutable](https://www.google.com/search?q=mutable+vs.+immutable+python)"
      ],
      "metadata": {
        "id": "mQMeth6MPZM_"
      }
    },
    {
      "cell_type": "code",
      "execution_count": null,
      "outputs": [],
      "source": [
        "# make a tuple\n",
        "my_list2 = ['foo', 'bar', 'baz', 'qux', 'quux']\n",
        "my_tuple0 = tuple(my_list2) # foo, bar, baz, qux, quux\n",
        "my_list4 = my_list2\n",
        "my_list5 = list(my_list4)\n",
        "\n",
        "# guess the output\n",
        "my_list2.extend(['corge', 'grault', 'garply'])\n",
        "print(\"my_tuple0 =\\n{}\\n\".format(   my_tuple0))\n",
        "print(\"my_list4 =\\n{}\\n\".format(    my_list4))\n",
        "print(\"my_list5 =\\n{}\\n\".format(    my_list5))\n"
      ],
      "metadata": {
        "id": "Ugb5FPenyMBB"
      }
    },
    {
      "cell_type": "markdown",
      "source": [
        "notice that my_tuple0 and my_list5 doesn't change, while changing my_list2 changes my_list4. this occurs because my_list2 and my_list4 point to the same container."
      ],
      "metadata": {
        "id": "9PGHHsMWtViW"
      }
    },
    {
      "cell_type": "code",
      "source": [
        "# guess the output\n",
        "my_list4.append('waldo')\n",
        "print(my_list2)"
      ],
      "metadata": {
        "id": "M17iAHh5KHst"
      },
      "execution_count": null,
      "outputs": []
    },
    {
      "cell_type": "markdown",
      "source": [
        "try some exercises at [w3schools](https://www.w3schools.com/python/python_tuples.asp)"
      ],
      "metadata": {
        "id": "a3sWURVdrbjT"
      }
    },
    {
      "cell_type": "markdown",
      "source": [
        "##Dictionaries\n",
        "\n",
        "`{ 0 : 'zero', 'zero' : [0,], 'one' : { 1 : 'one'}, (2, 'two') : [2,] }`\n"
      ],
      "metadata": {
        "id": "WL1BDfEzwpIv"
      }
    },
    {
      "cell_type": "markdown",
      "source": [
        "now let's take a look at [dictionaries](https://docs.python.org/3/library/stdtypes.html#dict)"
      ],
      "metadata": {
        "id": "7YsFU9L3IJ-P"
      }
    },
    {
      "cell_type": "code",
      "source": [
        "dir({})"
      ],
      "metadata": {
        "id": "8hKGWtEoxDt4"
      },
      "execution_count": null,
      "outputs": []
    },
    {
      "cell_type": "code",
      "execution_count": null,
      "outputs": [],
      "source": [
        "# make some dictionaries\n",
        "book0 = {'title': 'The Three-Body Problem', 'authors': ['Liu, C.', 'Liu, K'], 'isbn':9780765377067, 'published': 2014, 'publisher': 'TOR Publishing Group'}\n",
        "book1 = {'title': 'The Dark Forest', 'authors': ['Liu, C.', 'Liu, K', 'Martinsen, M'], 'isbn':9780765377081, 'published': 2015, 'publisher': 'TOR Publishing Group'}\n",
        "book2 = {'title': 'Deaths End', 'authors': ['Liu, C.', 'Liu, K', 'Martinsen, M'], 'isbn':9780765377104, 'published':2016, 'publisher': 'TOR Publishing Group'}\n",
        "trilogy0 = {'book0': book0, 'book1': book1}\n",
        "trilogy0['book2'] = book2\n",
        "\n",
        "# try to guess the output\n",
        "print(\"book0['title'] =\\n{}\\n\".format(          book0['title']))\n",
        "print(\"book1['authors'][0] =\\n{}\\n\".format(     book1['authors'][0]))\n",
        "print(\"book2.keys() =\\n{}\\n\".format(            book2.keys()))\n",
        "print(\"book2.__getitem__('publisher').__getitem__(slice(4,14,1)) =\\n{}\\n\".format(\n",
        "                                                book2.__getitem__('publisher').__getitem__(slice(4,14,1))))\n",
        "print(\"trilogy0['book0']['isbn'] =\\n{}\\n\".format(\n",
        "                                                trilogy0['book0']['isbn']))\n",
        "foo = 'book2'\n",
        "bar = 'authors'\n",
        "baz = 2\n",
        "print(\"trilogy0[foo][bar][baz] =\\n{}\\n\".format( trilogy0[foo][bar][baz]))"
      ],
      "metadata": {
        "id": "zlsxlaQqyMBC"
      }
    },
    {
      "cell_type": "markdown",
      "source": [
        "try some exercises at [w3schools](https://www.w3schools.com/python/python_dictionaries.asp)"
      ],
      "metadata": {
        "id": "NGI2Svx1rqZZ"
      }
    },
    {
      "cell_type": "code",
      "execution_count": null,
      "outputs": [],
      "source": [
        "# do some dictionary operations\n",
        "tags = ['science fiction']\n",
        "for book in trilogy0:\n",
        "    trilogy0[book]['tags'] = tags\n",
        "\n",
        "# try to guess the output\n",
        "from pprint import pprint\n",
        "pprint(trilogy0)\n",
        "print('=-'*40)\n",
        "trilogy0['book2']['tags'].append('romance')\n",
        "pprint(trilogy0)\n",
        "tags.pop()\n",
        "print('=-'*40)\n",
        "pprint(trilogy0)\n"
      ],
      "metadata": {
        "id": "-Aul4MGmyMBC"
      }
    },
    {
      "cell_type": "markdown",
      "source": [
        "Notice that modifying the 'tag' list in book2 changed ALL lists.\n",
        "\n",
        "Discussion -- why does this happen?"
      ],
      "metadata": {
        "id": "3zbK__AjHkms"
      }
    },
    {
      "cell_type": "markdown",
      "source": [
        "Dictionaries can have any immutable object as a key, this includes integer, float, string, boolean, tuples ..."
      ],
      "metadata": {
        "id": "dnEQyPy2RJX8"
      }
    },
    {
      "cell_type": "markdown",
      "source": [
        "Time for a quick review! Lets use an example cell parameter dictionary from NetPyNE as an example.\n",
        "\n",
        "\n",
        "```\n",
        "trilogy0 =\n",
        "{'book0': {'authors': ['Liu, C.', 'Liu, K'],\n",
        "           'isbn': 9780765377067,\n",
        "           'published': 2014,\n",
        "           'publisher': 'TOR Publishing Group',\n",
        "           'tags': ['science fiction'],\n",
        "           'title': 'The Three-Body Problem'},\n",
        " 'book1': {'authors': ['Liu, C.', 'Liu, K', 'Martinsen, M'],\n",
        "           'isbn': 9780765377081,\n",
        "           'published': 2015,\n",
        "           'publisher': 'TOR Publishing Group',\n",
        "           'tags': ['science fiction'],\n",
        "           'title': 'The Dark Forest'},\n",
        " 'book2': {'authors': ['Liu, C.', 'Liu, K', 'Martinsen, M'],\n",
        "           'isbn': 9780765377104,\n",
        "           'published': 2016,\n",
        "           'publisher': 'TOR Publishing Group',\n",
        "           'tags': ['science fiction'],\n",
        "           'title': 'Deaths End'}}\n",
        "```\n",
        "\n"
      ],
      "metadata": {
        "id": "WaMeF1QdKeuz"
      }
    },
    {
      "cell_type": "markdown",
      "source": [
        "##Sets\n",
        "`{ 1, 'two', (3,) }`"
      ],
      "metadata": {
        "id": "6Sk78kCNwu_t"
      }
    },
    {
      "cell_type": "markdown",
      "source": [
        "Finally, we'll discuss [sets](https://www.w3schools.com/python/python_sets.asp). They are non-indexed, lists of non-duplicated immutable containers."
      ],
      "metadata": {
        "id": "SU-jtVSACxKy"
      }
    },
    {
      "cell_type": "code",
      "source": [
        "set0 = { 1, 'two', (3,) }\n",
        "list6 = [1, 'two', [3]]\n",
        "print(\"set0 = {}\".format(set0))\n",
        "print(\"list6 = {}\".format(list6))"
      ],
      "metadata": {
        "id": "HOQxc-DUKdi1"
      },
      "execution_count": null,
      "outputs": []
    },
    {
      "cell_type": "markdown",
      "source": [
        "Try some exercises at [w3schools](https://www.w3schools.com/python/python_sets.asp)"
      ],
      "metadata": {
        "id": "4T4ggqx5vTUz"
      }
    },
    {
      "cell_type": "markdown",
      "source": [
        "#Control Flow\n",
        "`if` `booleans` `for` and `while`\n"
      ],
      "metadata": {
        "id": "nOGXpapmsaQ8"
      }
    },
    {
      "cell_type": "markdown",
      "source": [
        "Control flow is determined by specific [statements](https://docs.python.org/3/tutorial/controlflow.html),\n",
        "\n",
        "An important element of control flow is the [boolean](https://www.w3schools.com/python/python_booleans.asp) which dictates which block of code to run in an `if:` `elif:` `else:` block\n",
        "\n"
      ],
      "metadata": {
        "id": "SI5qi6cSnVDm"
      }
    },
    {
      "cell_type": "code",
      "source": [
        "# straightforward for loop\n",
        "my_iters = []\n",
        "\n",
        "my_iter = []\n",
        "for i in range(5):\n",
        "  my_iter.append(i)\n",
        "my_iters.append(my_iter)\n",
        "print(\"created my_iters[0] ...\")\n",
        "\n",
        "my_iter = []\n",
        "# straightforward for loop\n",
        "for i in [ 1, 3, 5, 7, 9]:\n",
        "  my_iter.append(i)\n",
        "my_iters.append(my_iter)\n",
        "print(\"created my_iters[1] ...\")\n",
        "\n",
        "# straightforward list comprehension\n",
        "my_iters.append([i for i in range(2, 12, 2)])\n",
        "print(\"created my_iters[2] ...\")\n",
        "\n",
        "# less straightforward while statement\n",
        "my_iter = []\n",
        "i = 3\n",
        "while i < 8:\n",
        "  my_iter.append(i)\n",
        "  i = i + 1\n",
        "else:\n",
        "  print(\"created my_iters[3] ...\")\n",
        "my_iters.append(my_iter)\n",
        "\n",
        "# if: break flow control in even less straightforward while statement\n",
        "my_iter = []\n",
        "i = 4\n",
        "while True:\n",
        "  my_iter.append(i)\n",
        "  i = i + 2\n",
        "  if i > 16:\n",
        "    break\n",
        "else:\n",
        "  print(\"created my_iters[4] ...\")\n",
        "my_iters.append(my_iter)\n",
        "\n",
        "# try: except + if: flow control in least straightforward while statement\n",
        "my_iter = []\n",
        "i = 5\n",
        "try:\n",
        "  while True:\n",
        "    my_iter.append(i)\n",
        "    i = i * 2\n",
        "    if i > 80:\n",
        "      raise Exception()\n",
        "except:\n",
        "  print(\"created my_iters[5] ...\")\n",
        "my_iters.append(my_iter)\n",
        "print(\"\\n\\n\\n\")\n",
        "print(\"| \".join(\"my_iters[{}] \".format(i) for i in range(len(my_iters))))\n",
        "print(\"-\"*81)\n",
        "for i in range(len(my_iter)):\n",
        "  print(\"| \".join(\"{:<11} \".format(my_iters[j][i]) for j in range(len(my_iters))))\n"
      ],
      "metadata": {
        "id": "VDhOHo7pInPK",
        "collapsed": true
      },
      "execution_count": null,
      "outputs": []
    },
    {
      "cell_type": "markdown",
      "source": [
        "Try some exercises on [if](https://www.w3schools.com/python/python_conditions.asp) [while](https://www.w3schools.com/python/python_while_loops.asp) and [for](https://www.w3schools.com/python/python_for_loops.asp) at w3schools"
      ],
      "metadata": {
        "id": "PcN0YtG1xuNU"
      }
    },
    {
      "cell_type": "markdown",
      "source": [
        "##More Control Flow"
      ],
      "metadata": {
        "id": "7F-TG1rH5cQd"
      }
    },
    {
      "cell_type": "markdown",
      "source": [
        "for loops accept anything that can be iterated<details><summary>how can we find out?</summary>`__iter__ in dir(X) == True`</details>"
      ],
      "metadata": {
        "id": "lCDd6jl_BPMI"
      }
    },
    {
      "cell_type": "code",
      "source": [
        "# for ... in takes anything that can be transformed into an iterator\n",
        "trilogy0 = {\n",
        "  'book0': {'title': 'The Three-Body Problem', 'authors': ['Liu, C.', 'Liu, K'], 'isbn':9780765377067, 'published': 2014, 'publisher': 'TOR Publishing Group'},\n",
        "  'book1': {'title': 'The Dark Forest', 'authors': ['Liu, C.', 'Liu, K', 'Martinsen, M'], 'isbn':9780765377081, 'published': 2015, 'publisher': 'TOR Publishing Group'},\n",
        "  'book2': {'title': 'Deaths End', 'authors': ['Liu, C.', 'Liu, K', 'Martinsen, M'], 'isbn':9780765377104, 'published':2016, 'publisher': 'TOR Publishing Group'} }\n",
        "\n",
        "print(\"keys in trilogy0\")\n",
        "print(\"-\"*45)\n",
        "for book in trilogy0:\n",
        "  print(trilogy0[book]['title'])\n",
        "\n",
        "print(\"\\n\")\n",
        "\n",
        "tuple0 = ( False, 1, (2,), 'three', [4, 5])\n",
        "print(\"values in tuple0\")\n",
        "print(\"-\"*45)\n",
        "for container in tuple0:\n",
        "  print(container)\n",
        "\n",
        "print(\"\\n\")\n",
        "\n",
        "set0 = { 'foo', 'bar', 'baz' }\n",
        "print(\"values in set0\")\n",
        "print(\"-\"*45)\n",
        "for immutable in set0:\n",
        "  print(immutable)"
      ],
      "metadata": {
        "id": "yG2vpXGf5bwk"
      },
      "execution_count": null,
      "outputs": []
    },
    {
      "cell_type": "markdown",
      "source": [
        "boolean expressions include `in` "
      ],
      "metadata": {
        "id": "oTfJPtccEB3V"
      }
    },
    {
      "cell_type": "code",
      "source": [
        "list0 = ['foo', 'bar', 'baz']\n",
        "if 'foo' in list0:\n",
        "  print('foo in list0')\n",
        "else:\n",
        "  print('foo not in list0')\n",
        "if 'quux' in ['foo', 'bar', 'baz']:\n",
        "  print('quux in list0')\n",
        "else:\n",
        "  print('quux not in list0')"
      ],
      "metadata": {
        "id": "ypGOy62e9neo"
      },
      "execution_count": null,
      "outputs": []
    },
    {
      "cell_type": "markdown",
      "source": [
        "Let's practice -- create a new dictionary, `filtered` that only contains the `key:value` pairs from `trilogy0` where `Martinsen, M` is one of the authors"
      ],
      "metadata": {
        "id": "AWwx_WCzFNlR"
      }
    },
    {
      "cell_type": "code",
      "source": [
        "from pprint import pprint\n",
        "trilogy0 = {\n",
        "  'book0': {'title': 'The Three-Body Problem', 'authors': ['Liu, C.', 'Liu, K'], 'isbn':9780765377067, 'published': 2014, 'publisher': 'TOR Publishing Group'},\n",
        "  'book1': {'title': 'The Dark Forest', 'authors': ['Liu, C.', 'Liu, K', 'Martinsen, M'], 'isbn':9780765377081, 'published': 2015, 'publisher': 'TOR Publishing Group'},\n",
        "  'book2': {'title': 'Deaths End', 'authors': ['Liu, C.', 'Liu, K', 'Martinsen, M'], 'isbn':9780765377104, 'published':2016, 'publisher': 'TOR Publishing Group'} }\n",
        "\n",
        "answer = {\n",
        "  'book1': {'title': 'The Dark Forest', 'authors': ['Liu, C.', 'Liu, K', 'Martinsen, M'], 'isbn':9780765377081, 'published': 2015, 'publisher': 'TOR Publishing Group'},\n",
        "  'book2': {'title': 'Deaths End', 'authors': ['Liu, C.', 'Liu, K', 'Martinsen, M'], 'isbn':9780765377104, 'published':2016, 'publisher': 'TOR Publishing Group'} }\n",
        "}\n",
        "# try with a for loop, fill in the ...\n",
        "filtered = {}\n",
        "for book in trilogy0:\n",
        "  if ...:\n",
        "    filtered[...] = ...\n",
        "\n",
        "pprint(filtered)"
      ],
      "metadata": {
        "id": "IbiJXj77F4vP"
      },
      "execution_count": null,
      "outputs": []
    },
    {
      "cell_type": "markdown",
      "source": [
        "Lets look at some fancy list tools\n",
        "a [list comprehension](https://www.w3schools.com/python/python_lists_comprehension.asp) can create a list based on operations on an iterable"
      ],
      "metadata": {
        "id": "WbydAJasUhYs"
      }
    },
    {
      "cell_type": "code",
      "source": [
        "# a list comprehension\n",
        "print(\"[i for i in range(10)] =\\n{}\\n\".format([i for i in range(10)]))\n",
        "print(\"[i**2 for i in range(10)] =\\n{}\\n\".format([i**2 for i in range(10)]))\n",
        "\n",
        "# a list comprehension can also be used with control flow statements (i.e. if)\n",
        "print(\"[i**2 for i in range(10) if i % 2 == 0 ] =\\n{}\\n\".format([i**2 for i in range(10) if i % 2 == 0 ]))"
      ],
      "metadata": {
        "id": "5KPAcCmKUgLy"
      },
      "execution_count": null,
      "outputs": []
    },
    {
      "cell_type": "markdown",
      "source": [
        "Let's practice -- create a new dictionary, `filtered` that only contains the `key:value` pairs from `trilogy0` where `Martinsen, M` is one of the authors"
      ],
      "metadata": {
        "id": "IzUUTtyMbx1d"
      }
    },
    {
      "cell_type": "code",
      "source": [
        "from pprint import pprint\n",
        "trilogy0 = {\n",
        "  'book0': {'title': 'The Three-Body Problem', 'authors': ['Liu, C.', 'Liu, K'], 'isbn':9780765377067, 'published': 2014, 'publisher': 'TOR Publishing Group'},\n",
        "  'book1': {'title': 'The Dark Forest', 'authors': ['Liu, C.', 'Liu, K', 'Martinsen, M'], 'isbn':9780765377081, 'published': 2015, 'publisher': 'TOR Publishing Group'},\n",
        "  'book2': {'title': 'Deaths End', 'authors': ['Liu, C.', 'Liu, K', 'Martinsen, M'], 'isbn':9780765377104, 'published':2016, 'publisher': 'TOR Publishing Group'} }\n",
        "\n",
        "answer = {\n",
        "  'book1': {'title': 'The Dark Forest', 'authors': ['Liu, C.', 'Liu, K', 'Martinsen, M'], 'isbn':9780765377081, 'published': 2015, 'publisher': 'TOR Publishing Group'},\n",
        "  'book2': {'title': 'Deaths End', 'authors': ['Liu, C.', 'Liu, K', 'Martinsen, M'], 'isbn':9780765377104, 'published':2016, 'publisher': 'TOR Publishing Group'} }\n",
        "\n",
        "# try with a list comprehension, fill in the ...\n",
        "filtered = {}\n",
        "filtered_books = [book for book in ...]\n",
        "for book in filtered_books:\n",
        "  filtered[book] = trilogy0[book]\n",
        "\n",
        "pprint(filtered)"
      ],
      "metadata": {
        "id": "L11oy5icWfx3"
      },
      "execution_count": null,
      "outputs": []
    },
    {
      "cell_type": "markdown",
      "source": [
        "There's actually a way do the same as above in only one line, can you figure it out?\n",
        "\n",
        "hint: dictionaries can be created with [iterables](https://docs.python.org/3/tutorial/datastructures.html)"
      ],
      "metadata": {
        "id": "EkqLpcG5sZU0"
      }
    },
    {
      "cell_type": "code",
      "source": [],
      "metadata": {
        "id": "e1i0u6b-sYBK"
      },
      "execution_count": 73,
      "outputs": []
    }
  ],
  "metadata": {
    "kernelspec": {
      "display_name": "tvb",
      "language": "python",
      "name": "python3"
    },
    "language_info": {
      "codemirror_mode": {
        "name": "ipython",
        "version": 3
      },
      "file_extension": ".py",
      "mimetype": "text/x-python",
      "name": "python",
      "nbconvert_exporter": "python",
      "pygments_lexer": "ipython3",
      "version": "3.10.9"
    },
    "orig_nbformat": 4,
    "vscode": {
      "interpreter": {
        "hash": "835cdcc604f684e14889bc32aad55238e3a77d7f51b646849484f9557bf213e6"
      }
    },
    "colab": {
      "provenance": [],
      "include_colab_link": true
    }
  },
  "nbformat": 4,
  "nbformat_minor": 0
}