{
  "cells": [
    {
      "cell_type": "markdown",
      "metadata": {
        "id": "view-in-github",
        "colab_type": "text"
      },
      "source": [
        "<a href=\"https://colab.research.google.com/github/jchen6727/tutorials/blob/master/lab0/containers.ipynb\" target=\"_parent\"><img src=\"https://colab.research.google.com/assets/colab-badge.svg\" alt=\"Open In Colab\"/></a>"
      ]
    },
    {
      "cell_type": "markdown",
      "metadata": {
        "id": "-bdent77yMA5"
      },
      "source": [
        "# NetPyNE Tutorial 0\n",
        "Python basics: containers (lists, tuples, dictionaries, sets), for loops, control flow.\n",
        "see [python's docs](https://docs.python.org/3/tutorial/datastructures.html)"
      ]
    },
    {
      "cell_type": "markdown",
      "metadata": {
        "id": "G2UFrFseyMA9"
      },
      "source": [
        "Let's explore what a [list](https://docs.python.org/3/library/stdtypes.html#lists) can do using the [dir()](https://docs.python.org/3/library/functions.html#dir) command."
      ]
    },
    {
      "cell_type": "code",
      "execution_count": null,
      "outputs": [
        {
          "output_type": "execute_result",
          "data": {
            "text/plain": [
              "['__add__',\n",
              " '__class__',\n",
              " '__contains__',\n",
              " '__delattr__',\n",
              " '__delitem__',\n",
              " '__dir__',\n",
              " '__doc__',\n",
              " '__eq__',\n",
              " '__format__',\n",
              " '__ge__',\n",
              " '__getattribute__',\n",
              " '__getitem__',\n",
              " '__gt__',\n",
              " '__hash__',\n",
              " '__iadd__',\n",
              " '__imul__',\n",
              " '__init__',\n",
              " '__init_subclass__',\n",
              " '__iter__',\n",
              " '__le__',\n",
              " '__len__',\n",
              " '__lt__',\n",
              " '__mul__',\n",
              " '__ne__',\n",
              " '__new__',\n",
              " '__reduce__',\n",
              " '__reduce_ex__',\n",
              " '__repr__',\n",
              " '__reversed__',\n",
              " '__rmul__',\n",
              " '__setattr__',\n",
              " '__setitem__',\n",
              " '__sizeof__',\n",
              " '__str__',\n",
              " '__subclasshook__',\n",
              " 'append',\n",
              " 'clear',\n",
              " 'copy',\n",
              " 'count',\n",
              " 'extend',\n",
              " 'index',\n",
              " 'insert',\n",
              " 'pop',\n",
              " 'remove',\n",
              " 'reverse',\n",
              " 'sort']"
            ]
          },
          "metadata": {},
          "execution_count": 23
        }
      ],
      "source": [
        "dir([])"
      ],
      "metadata": {
        "colab": {
          "base_uri": "https://localhost:8080/"
        },
        "id": "aSq31e4SyMA9",
        "outputId": "6d4cf8a3-3d58-48b7-8e34-c9241f469025"
      }
    },
    {
      "cell_type": "markdown",
      "source": [
        "each of the [strings](https://docs.python.org/3/library/stdtypes.html#text-sequence-type-str) returned by dir() are attributes of these objects.\n",
        "the attributes starting and ending with '__' are dunder / magic methods which have special properties.\n",
        "for instance, some of them are mapped to [operators](https://docs.python.org/3/library/operator.html#mapping-operators-to-functions)"
      ],
      "metadata": {
        "collapsed": false,
        "id": "dYjsb1TYyMA-"
      }
    },
    {
      "cell_type": "code",
      "execution_count": null,
      "outputs": [
        {
          "output_type": "stream",
          "name": "stdout",
          "text": [
            "['foo', 'quux', 'baz']\n",
            "['qux', 'qux']\n",
            "quux\n",
            "Exception: list index out of range\n"
          ]
        }
      ],
      "source": [
        "# make some lists\n",
        "my_list0 = ['foo', 'bar', 'bar']\n",
        "my_list1 = ['qux', 'qux']\n",
        "\n",
        "# do a list operation\n",
        "my_list0[2] = 'baz'\n",
        "my_list0.__setitem__(1, 'quux')\n",
        "\n",
        "# try to guess the output\n",
        "print(my_list0)\n",
        "print(my_list1)\n",
        "print(my_list0[1])\n",
        "try: print(my_list0[3])\n",
        "except Exception as e: print(\"Exception: {}\".format(e))"
      ],
      "metadata": {
        "colab": {
          "base_uri": "https://localhost:8080/"
        },
        "id": "S2vHB6IwyMA_",
        "outputId": "c3c1b405-2206-459f-d5e2-daddf236b6a6"
      }
    },
    {
      "cell_type": "code",
      "execution_count": null,
      "outputs": [
        {
          "output_type": "stream",
          "name": "stdout",
          "text": [
            "qux\n",
            "['baz', 'qux', 'qux']\n",
            "['baz', 'qux']\n",
            "['baz', 'qux']\n",
            "Exception: 'NoneType' object is not subscriptable\n",
            "Exception: list index out of range\n",
            "qux\n"
          ]
        }
      ],
      "source": [
        "# make some more lists\n",
        "my_list2 = my_list0 + my_list1\n",
        "my_list3 = my_list0.append(my_list1)\n",
        "\n",
        "# try to guess the output\n",
        "print(my_list2[4])\n",
        "print(my_list2[2:5])\n",
        "print(my_list2[slice(2,4,1)])\n",
        "print(my_list2.__getitem__(slice(2,4,1)))\n",
        "try: print(my_list3[4])\n",
        "except Exception as e: print(\"Exception: {}\".format(e))\n",
        "try: print(my_list0[4])\n",
        "except Exception as e: print(\"Exception: {}\".format(e))\n",
        "print(my_list0[3][1])"
      ],
      "metadata": {
        "colab": {
          "base_uri": "https://localhost:8080/"
        },
        "id": "J7uUGmLRyMA_",
        "outputId": "cacaf1df-e9fc-479e-b651-7a5e20f6aed5"
      }
    },
    {
      "cell_type": "markdown",
      "source": [
        "let's explore what a [tuple](https://www.w3schools.com/python/python_tuples.asp) can do using the dir() command,\n",
        "\n",
        "while we're at it, we can compare the attributes of the two.\n"
      ],
      "metadata": {
        "collapsed": false,
        "id": "8eiTAJLkyMBA"
      }
    },
    {
      "cell_type": "code",
      "execution_count": null,
      "outputs": [
        {
          "output_type": "stream",
          "name": "stdout",
          "text": [
            "list                |     tuple               \n",
            "---------------------------------------------\n",
            "__add__             |     __add__             \n",
            "__class__           |     __class__           \n",
            "__contains__        |     __contains__        \n",
            "__delattr__         |     __delattr__         \n",
            "__delitem__         |     __dir__             \n",
            "__dir__             |     __doc__             \n",
            "__doc__             |     __eq__              \n",
            "__eq__              |     __format__          \n",
            "__format__          |     __ge__              \n",
            "__ge__              |     __getattribute__    \n",
            "__getattribute__    |     __getitem__         \n",
            "__getitem__         |     __getnewargs__      \n",
            "__gt__              |     __gt__              \n",
            "__hash__            |     __hash__            \n",
            "__iadd__            |     __init__            \n",
            "__imul__            |     __init_subclass__   \n",
            "__init__            |     __iter__            \n",
            "__init_subclass__   |     __le__              \n",
            "__iter__            |     __len__             \n",
            "__le__              |     __lt__              \n",
            "__len__             |     __mul__             \n",
            "__lt__              |     __ne__              \n",
            "__mul__             |     __new__             \n",
            "__ne__              |     __reduce__          \n",
            "__new__             |     __reduce_ex__       \n",
            "__reduce__          |     __repr__            \n",
            "__reduce_ex__       |     __rmul__            \n",
            "__repr__            |     __setattr__         \n",
            "__reversed__        |     __sizeof__          \n",
            "__rmul__            |     __str__             \n",
            "__setattr__         |     __subclasshook__    \n",
            "__setitem__         |     count               \n",
            "__sizeof__          |     index               \n",
            "__str__             |                         \n",
            "__subclasshook__    |                         \n",
            "append              |                         \n",
            "clear               |                         \n",
            "copy                |                         \n",
            "count               |                         \n",
            "extend              |                         \n",
            "index               |                         \n",
            "insert              |                         \n",
            "pop                 |                         \n",
            "remove              |                         \n",
            "reverse             |                         \n",
            "sort                |                         \n"
          ]
        }
      ],
      "source": [
        "from itertools import zip_longest as zipl\n",
        "print(\"{:<20}|     {:<20}\".format(\"list\", \"tuple\"))\n",
        "print(\"-\"*45)\n",
        "print(\"\\n\".join(\"{:<20}|     {:<20}\".format(li, ti) for li, ti in zipl(dir([]), dir(()), fillvalue = ' ')))"
      ],
      "metadata": {
        "colab": {
          "base_uri": "https://localhost:8080/"
        },
        "id": "fFBcTVslyMBA",
        "outputId": "62565a1d-b446-4c65-ff75-43ad4aad4374"
      }
    },
    {
      "cell_type": "markdown",
      "source": [
        "notice that a list has significantly more attributes,\n",
        "\n",
        "discussion -- what's the significance of these elements?\n",
        "\n",
        "hint: [mutable vs. immutable](https://www.google.com/search?q=mutable+vs.+immutable+python)"
      ],
      "metadata": {
        "id": "mQMeth6MPZM_"
      }
    },
    {
      "cell_type": "code",
      "execution_count": null,
      "outputs": [
        {
          "output_type": "stream",
          "name": "stdout",
          "text": [
            "('foo', 'quux', 'baz', 'qux', 'qux')\n",
            "['foo', 'quux', 'baz', 'qux', 'qux', 'corge']\n"
          ]
        }
      ],
      "source": [
        "# make a tuple\n",
        "my_tuple0 = tuple(my_list2) # foo, bar, baz, qux, quux\n",
        "my_list4 = my_list2\n",
        "\n",
        "# guess the output\n",
        "my_list2.append('corge')\n",
        "print(my_tuple0)\n",
        "print(my_list4)"
      ],
      "metadata": {
        "id": "Ugb5FPenyMBB",
        "colab": {
          "base_uri": "https://localhost:8080/"
        },
        "outputId": "8c98a312-489f-4882-df28-a47406f07cf9"
      }
    },
    {
      "cell_type": "markdown",
      "source": [
        "now let's take a look at [dictionaries](https://docs.python.org/3/library/stdtypes.html#dict)"
      ],
      "metadata": {
        "id": "7YsFU9L3IJ-P"
      }
    },
    {
      "cell_type": "code",
      "execution_count": null,
      "outputs": [
        {
          "output_type": "stream",
          "name": "stdout",
          "text": [
            "The Three-Body Problem\n",
            "Liu, C.\n",
            "dict_keys(['title', 'authors', 'isbn', 'published', 'publisher'])\n",
            "Publishing\n",
            "9780765377067\n",
            "Martinsen, M\n"
          ]
        }
      ],
      "source": [
        "# make some dictionaries\n",
        "book0 = {'title': 'The Three-Body Problem', 'authors': ['Liu, C.', 'Liu, K'], 'isbn':9780765377067, 'published': 2014, 'publisher': 'TOR Publishing Group'}\n",
        "book1 = {'title': 'The Dark Forest', 'authors': ['Liu, C.', 'Liu, K', 'Martinsen, M'], 'isbn':9780765377081, 'published': 2015, 'publisher': 'TOR Publishing Group'}\n",
        "book2 = {'title': 'Deaths End', 'authors': ['Liu, C.', 'Liu, K', 'Martinsen, M'], 'isbn':9780765377104, 'published':2016, 'publisher': 'TOR Publishing Group'}\n",
        "trilogy0 = {'book0': book0, 'book1': book1}\n",
        "trilogy0['book2'] = book2\n",
        "\n",
        "# try to guess the output\n",
        "print(book0['title'])\n",
        "print(book1['authors'][0])\n",
        "print(book2.keys())\n",
        "try: print(book2.__getitem__('publisher').__getitem__(slice(4,14,1)))\n",
        "except Exception as e: print(\"Exception: {}\".format(e))\n",
        "print(trilogy0['book0']['isbn'])\n",
        "foo = 'book2'\n",
        "bar = 'authors'\n",
        "baz = 2\n",
        "print(trilogy0[foo][bar][baz])"
      ],
      "metadata": {
        "colab": {
          "base_uri": "https://localhost:8080/"
        },
        "id": "zlsxlaQqyMBC",
        "outputId": "3d9a2631-eb25-4121-c7bb-ad6faa5f1992"
      }
    },
    {
      "cell_type": "code",
      "execution_count": null,
      "outputs": [
        {
          "output_type": "stream",
          "name": "stdout",
          "text": [
            "{'book0': {'authors': ['Liu, C.', 'Liu, K'],\n",
            "           'isbn': 9780765377067,\n",
            "           'published': 2014,\n",
            "           'publisher': 'TOR Publishing Group',\n",
            "           'tags': ['science fiction'],\n",
            "           'title': 'The Three-Body Problem'},\n",
            " 'book1': {'authors': ['Liu, C.', 'Liu, K', 'Martinsen, M'],\n",
            "           'isbn': 9780765377081,\n",
            "           'published': 2015,\n",
            "           'publisher': 'TOR Publishing Group',\n",
            "           'tags': ['science fiction'],\n",
            "           'title': 'The Dark Forest'},\n",
            " 'book2': {'authors': ['Liu, C.', 'Liu, K', 'Martinsen, M'],\n",
            "           'isbn': 9780765377104,\n",
            "           'published': 2016,\n",
            "           'publisher': 'TOR Publishing Group',\n",
            "           'tags': ['science fiction'],\n",
            "           'title': 'Deaths End'}}\n",
            "=-=-=-=-=-=-=-=-=-=-=-=-=-=-=-=-=-=-=-=-=-=-=-=-=-=-=-=-=-=-=-=-=-=-=-=-=-=-=-=-\n",
            "{'book0': {'authors': ['Liu, C.', 'Liu, K'],\n",
            "           'isbn': 9780765377067,\n",
            "           'published': 2014,\n",
            "           'publisher': 'TOR Publishing Group',\n",
            "           'tags': ['science fiction', 'romance'],\n",
            "           'title': 'The Three-Body Problem'},\n",
            " 'book1': {'authors': ['Liu, C.', 'Liu, K', 'Martinsen, M'],\n",
            "           'isbn': 9780765377081,\n",
            "           'published': 2015,\n",
            "           'publisher': 'TOR Publishing Group',\n",
            "           'tags': ['science fiction', 'romance'],\n",
            "           'title': 'The Dark Forest'},\n",
            " 'book2': {'authors': ['Liu, C.', 'Liu, K', 'Martinsen, M'],\n",
            "           'isbn': 9780765377104,\n",
            "           'published': 2016,\n",
            "           'publisher': 'TOR Publishing Group',\n",
            "           'tags': ['science fiction', 'romance'],\n",
            "           'title': 'Deaths End'}}\n"
          ]
        }
      ],
      "source": [
        "# do some dictionary operations\n",
        "tags = ['science fiction']\n",
        "for book in trilogy0:\n",
        "    trilogy0[book]['tags'] = tags\n",
        "\n",
        "# try to guess the output\n",
        "from pprint import pprint\n",
        "pprint(trilogy0)\n",
        "print('=-'*40)\n",
        "trilogy0['book2']['tags'].append('romance')\n",
        "pprint(trilogy0)\n"
      ],
      "metadata": {
        "colab": {
          "base_uri": "https://localhost:8080/"
        },
        "id": "-Aul4MGmyMBC",
        "outputId": "bc57304f-7510-4b78-8bca-278e67eda1a2"
      }
    },
    {
      "cell_type": "markdown",
      "source": [
        "Notice that modifying the 'tag' list in book2 changed ALL lists.\n",
        "\n",
        "Discussion -- why does this happen?"
      ],
      "metadata": {
        "id": "3zbK__AjHkms"
      }
    },
    {
      "cell_type": "markdown",
      "source": [
        "Dictionaries can have any immutable object as a key, this includes integer, float, string, boolean, tuples ..."
      ],
      "metadata": {
        "id": "dnEQyPy2RJX8"
      }
    },
    {
      "cell_type": "markdown",
      "source": [
        "Finally, we'll discuss [sets](https://www.w3schools.com/python/python_sets.asp). They are non-indexed, mutable lists. I don't think they are interesting."
      ],
      "metadata": {
        "id": "SU-jtVSACxKy"
      }
    },
    {
      "cell_type": "markdown",
      "source": [
        "Lists and control flow\n"
      ],
      "metadata": {
        "id": "nOGXpapmsaQ8"
      }
    },
    {
      "cell_type": "code",
      "source": [],
      "metadata": {
        "id": "U4bKQ-kA3ukJ"
      },
      "execution_count": null,
      "outputs": []
    },
    {
      "cell_type": "code",
      "source": [
        "# straightforward for loop\n",
        "my_iters = []\n",
        "\n",
        "my_iter = []\n",
        "for i in range(5):\n",
        "  my_iter.append(i)\n",
        "my_iters.append(my_iter)\n",
        "\n",
        "my_iter = []\n",
        "# straightforward for loop\n",
        "for i in [ 0, 2, 4, 6, 8]:\n",
        "  my_iter.append(i)\n",
        "my_iters.append(my_iter)\n",
        "\n",
        "# straightforward list comprehension\n",
        "my_iters.append([i for i in range(0, 10, 2)])\n",
        "\n",
        "# less straightforward while statement\n",
        "my_iter = []\n",
        "i = 0\n",
        "while i < 5:\n",
        "  my_iter.append(i)\n",
        "  i = i + 1\n",
        "my_iters.append(my_iter)\n",
        "\n",
        "# if: break flow control in even less straightforward while statement\n",
        "my_iter = []\n",
        "i = 0\n",
        "while True:\n",
        "  my_iter.append(i)\n",
        "  i = i + 2\n",
        "  if i == 10:\n",
        "    break\n",
        "my_iters.append(my_iter)\n",
        "\n",
        "# try: except + if: flow control in least straightforward while statement\n",
        "my_iter = []\n",
        "i = 0\n",
        "try:\n",
        "  while True:\n",
        "    my_iter.append(i)\n",
        "    i = i + 1\n",
        "    if i == 5:\n",
        "      raise Exception()\n",
        "except:\n",
        "  pass\n",
        "my_iters.append(my_iter)\n",
        "\n",
        "print(\"| \".join(\"my_iters[{}] \".format(i) for i in range(len(my_iters))))\n",
        "print(\"-\"*52)\n",
        "\n",
        "#entry = \"{}\" * len(my_iters)\n",
        "#print(\"\\n\".join(entry.format(my_iter) for my_iter in my_iters))\n",
        "#foos = zip(*[[val for val in my_iter] for my_iter in my_iters])\n",
        "#print(\"\\n\".join(\"{}\"*len(my_iters).format(*foo) for foo in foos))\n",
        "#print(trif)\n",
        "#for my_iter in my_iters:\n",
        "# printstr += \"| \".join(\"{}\".format(i) for i in my_iter)\n",
        "#  printstr += \"\\n\"\n",
        "#print(printstr)\n",
        "\n",
        "\n",
        "#print(\"   |    \".join(\"{}\".format(i) for i in trif) )\n",
        "#print(\"\\n\".join(\" {:<7} |\".format( *[[val for val in my_iter] for my_iter in my_iters] )))\n",
        "#\" {:<7} |  {:<7} |  {:<7} |  {:<7} |  {:<7}|  {:<7}\".format(i, j, k, l, m, n) for i, j, k, l, m, n in zip(my_list5, my_list6, my_list7, my_list8, my_list9, my_list10)))\n"
      ],
      "metadata": {
        "colab": {
          "base_uri": "https://localhost:8080/",
          "height": 391
        },
        "id": "VDhOHo7pInPK",
        "outputId": "8dbcb3a7-6988-413c-8525-0ee5850caf51"
      },
      "execution_count": 94,
      "outputs": [
        {
          "output_type": "stream",
          "name": "stdout",
          "text": [
            "my_iters[0] | my_iters[1] | my_iters[2] | my_iters[3] | my_iters[4] | my_iters[5] \n",
            "----------------------------------------------------\n"
          ]
        },
        {
          "output_type": "error",
          "ename": "IndexError",
          "evalue": "ignored",
          "traceback": [
            "\u001b[0;31m---------------------------------------------------------------------------\u001b[0m",
            "\u001b[0;31mIndexError\u001b[0m                                Traceback (most recent call last)",
            "\u001b[0;32m<ipython-input-94-df4109eb4a79>\u001b[0m in \u001b[0;36m<module>\u001b[0;34m\u001b[0m\n\u001b[1;32m     50\u001b[0m \u001b[0mprint\u001b[0m\u001b[0;34m(\u001b[0m\u001b[0;34m\"-\"\u001b[0m\u001b[0;34m*\u001b[0m\u001b[0;36m52\u001b[0m\u001b[0;34m)\u001b[0m\u001b[0;34m\u001b[0m\u001b[0;34m\u001b[0m\u001b[0m\n\u001b[1;32m     51\u001b[0m \u001b[0mentry\u001b[0m \u001b[0;34m=\u001b[0m \u001b[0;34m\"{}\"\u001b[0m \u001b[0;34m*\u001b[0m \u001b[0mlen\u001b[0m\u001b[0;34m(\u001b[0m\u001b[0mmy_iters\u001b[0m\u001b[0;34m)\u001b[0m\u001b[0;34m\u001b[0m\u001b[0;34m\u001b[0m\u001b[0m\n\u001b[0;32m---> 52\u001b[0;31m \u001b[0mprint\u001b[0m\u001b[0;34m(\u001b[0m\u001b[0;34m\"\\n\"\u001b[0m\u001b[0;34m.\u001b[0m\u001b[0mjoin\u001b[0m\u001b[0;34m(\u001b[0m\u001b[0mentry\u001b[0m\u001b[0;34m.\u001b[0m\u001b[0mformat\u001b[0m\u001b[0;34m(\u001b[0m\u001b[0mmy_iter\u001b[0m\u001b[0;34m)\u001b[0m \u001b[0;32mfor\u001b[0m \u001b[0mmy_iter\u001b[0m \u001b[0;32min\u001b[0m \u001b[0mmy_iters\u001b[0m\u001b[0;34m)\u001b[0m\u001b[0;34m)\u001b[0m\u001b[0;34m\u001b[0m\u001b[0;34m\u001b[0m\u001b[0m\n\u001b[0m\u001b[1;32m     53\u001b[0m \u001b[0;31m#foos = zip(*[[val for val in my_iter] for my_iter in my_iters])\u001b[0m\u001b[0;34m\u001b[0m\u001b[0;34m\u001b[0m\u001b[0;34m\u001b[0m\u001b[0m\n\u001b[1;32m     54\u001b[0m \u001b[0;31m#print(\"\\n\".join(\"{}\"*len(my_iters).format(*foo) for foo in foos))\u001b[0m\u001b[0;34m\u001b[0m\u001b[0;34m\u001b[0m\u001b[0;34m\u001b[0m\u001b[0m\n",
            "\u001b[0;32m<ipython-input-94-df4109eb4a79>\u001b[0m in \u001b[0;36m<genexpr>\u001b[0;34m(.0)\u001b[0m\n\u001b[1;32m     50\u001b[0m \u001b[0mprint\u001b[0m\u001b[0;34m(\u001b[0m\u001b[0;34m\"-\"\u001b[0m\u001b[0;34m*\u001b[0m\u001b[0;36m52\u001b[0m\u001b[0;34m)\u001b[0m\u001b[0;34m\u001b[0m\u001b[0;34m\u001b[0m\u001b[0m\n\u001b[1;32m     51\u001b[0m \u001b[0mentry\u001b[0m \u001b[0;34m=\u001b[0m \u001b[0;34m\"{}\"\u001b[0m \u001b[0;34m*\u001b[0m \u001b[0mlen\u001b[0m\u001b[0;34m(\u001b[0m\u001b[0mmy_iters\u001b[0m\u001b[0;34m)\u001b[0m\u001b[0;34m\u001b[0m\u001b[0;34m\u001b[0m\u001b[0m\n\u001b[0;32m---> 52\u001b[0;31m \u001b[0mprint\u001b[0m\u001b[0;34m(\u001b[0m\u001b[0;34m\"\\n\"\u001b[0m\u001b[0;34m.\u001b[0m\u001b[0mjoin\u001b[0m\u001b[0;34m(\u001b[0m\u001b[0mentry\u001b[0m\u001b[0;34m.\u001b[0m\u001b[0mformat\u001b[0m\u001b[0;34m(\u001b[0m\u001b[0mmy_iter\u001b[0m\u001b[0;34m)\u001b[0m \u001b[0;32mfor\u001b[0m \u001b[0mmy_iter\u001b[0m \u001b[0;32min\u001b[0m \u001b[0mmy_iters\u001b[0m\u001b[0;34m)\u001b[0m\u001b[0;34m)\u001b[0m\u001b[0;34m\u001b[0m\u001b[0;34m\u001b[0m\u001b[0m\n\u001b[0m\u001b[1;32m     53\u001b[0m \u001b[0;31m#foos = zip(*[[val for val in my_iter] for my_iter in my_iters])\u001b[0m\u001b[0;34m\u001b[0m\u001b[0;34m\u001b[0m\u001b[0;34m\u001b[0m\u001b[0m\n\u001b[1;32m     54\u001b[0m \u001b[0;31m#print(\"\\n\".join(\"{}\"*len(my_iters).format(*foo) for foo in foos))\u001b[0m\u001b[0;34m\u001b[0m\u001b[0;34m\u001b[0m\u001b[0;34m\u001b[0m\u001b[0m\n",
            "\u001b[0;31mIndexError\u001b[0m: Replacement index 1 out of range for positional args tuple"
          ]
        }
      ]
    },
    {
      "cell_type": "code",
      "source": [
        "a = \"{}\" * 7\n",
        "print(a.format(0, 1, 2, 3, 4, 5, 6))"
      ],
      "metadata": {
        "id": "lUsyKQWGK8pB",
        "colab": {
          "base_uri": "https://localhost:8080/"
        },
        "outputId": "1c94d4ef-2e05-4dee-8e9d-d5a01feaee80"
      },
      "execution_count": 91,
      "outputs": [
        {
          "output_type": "stream",
          "name": "stdout",
          "text": [
            "0123456\n"
          ]
        }
      ]
    },
    {
      "cell_type": "code",
      "source": [
        "!git clone "
      ],
      "metadata": {
        "id": "taCvdg8X52A1"
      },
      "execution_count": null,
      "outputs": []
    }
  ],
  "metadata": {
    "kernelspec": {
      "display_name": "tvb",
      "language": "python",
      "name": "python3"
    },
    "language_info": {
      "codemirror_mode": {
        "name": "ipython",
        "version": 3
      },
      "file_extension": ".py",
      "mimetype": "text/x-python",
      "name": "python",
      "nbconvert_exporter": "python",
      "pygments_lexer": "ipython3",
      "version": "3.10.9"
    },
    "orig_nbformat": 4,
    "vscode": {
      "interpreter": {
        "hash": "835cdcc604f684e14889bc32aad55238e3a77d7f51b646849484f9557bf213e6"
      }
    },
    "colab": {
      "provenance": [],
      "include_colab_link": true
    }
  },
  "nbformat": 4,
  "nbformat_minor": 0
}