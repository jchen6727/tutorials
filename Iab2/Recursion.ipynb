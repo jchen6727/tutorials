{
 "cells": [
  {
   "cell_type": "code",
   "execution_count": 3,
   "metadata": {},
   "outputs": [],
   "source": []
  },
  {
   "cell_type": "code",
   "execution_count": 2,
   "metadata": {},
   "outputs": [
    {
     "name": "stdout",
     "output_type": "stream",
     "text": [
      "[0, 1, 0, 2, 3, 1, 2, 1]\n"
     ]
    }
   ],
   "source": [
    "# secret is a list of unknown length containing numbers 0 through 4 in sequence (repetitions are possible).\n",
    "# can you write a function to guess it?\n",
    "secret = [0, 1, 0, 2, 3, 1, 2, 1]\n",
    "options = [0, 1, 2, 3, 4]\n",
    "def guess(prev = []):\n",
    "    if prev == secret:\n",
    "        print(prev)\n",
    "        return True\n",
    "    if prev != secret[:len(prev)]:\n",
    "        return False\n",
    "    for i in options:\n",
    "        next_g = prev + [i]\n",
    "        guess(next_g)\n",
    "guess()"
   ]
  },
  {
   "cell_type": "code",
   "execution_count": null,
   "metadata": {},
   "outputs": [],
   "source": []
  }
 ],
 "metadata": {
  "kernelspec": {
   "display_name": "Python 3",
   "language": "python",
   "name": "python3"
  },
  "language_info": {
   "codemirror_mode": {
    "name": "ipython",
    "version": 3
   },
   "file_extension": ".py",
   "mimetype": "text/x-python",
   "name": "python",
   "nbconvert_exporter": "python",
   "pygments_lexer": "ipython3",
   "version": "3.6.6+"
  }
 },
 "nbformat": 4,
 "nbformat_minor": 2
}
