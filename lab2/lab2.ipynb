{
  "cells": [
    {
      "cell_type": "markdown",
      "metadata": {
        "colab_type": "text",
        "id": "view-in-github"
      },
      "source": [
        "<a href=\"https://colab.research.google.com/github/jchen6727/tutorials/blob/master/Iab2/Iab2.ipynb\" target=\"_parent\"><img src=\"https://colab.research.google.com/assets/colab-badge.svg\" alt=\"Open In Colab\"/></a>"
      ]
    },
    {
      "attachments": {},
      "cell_type": "markdown",
      "metadata": {
        "id": "lUpTFY3qAzZW"
      },
      "source": [
        "<img src=\"https://raw.githubusercontent.com/jchen6727/tutorials/master/lab2/images/tutorial/Slide1.JPG\" alt=\"\" />"
      ]
    },
    {
      "cell_type": "code",
      "execution_count": null,
      "metadata": {
        "id": "MT66pmuDz96r"
      },
      "outputs": [],
      "source": [
        "# Run this cell if using colab\n",
        "!pip install neuron"
      ]
    },
    {
      "attachments": {},
      "cell_type": "markdown",
      "metadata": {
        "id": "8OSs2RLJBcrr"
      },
      "source": [
        "<img src=\"https://raw.githubusercontent.com/jchen6727/tutorials/master/lab2/images/tutorial/Slide3.JPG\" alt=\"\" />"
      ]
    },
    {
      "attachments": {},
      "cell_type": "markdown",
      "metadata": {
        "id": "l-C014P2B3Fh"
      },
      "source": [
        "<img src=\"https://raw.githubusercontent.com/jchen6727/tutorials/master/lab2/images/tutorial/Slide4.JPG\" alt=\"\" />"
      ]
    },
    {
      "attachments": {},
      "cell_type": "markdown",
      "metadata": {
        "id": "0xWcOlTnCAFP"
      },
      "source": [
        "<img src=\"https://raw.githubusercontent.com/jchen6727/tutorials/master/lab2/images/tutorial/Slide5.JPG\" alt=\"\" />"
      ]
    },
    {
      "cell_type": "code",
      "execution_count": null,
      "metadata": {
        "id": "l3NNWEl8z8p7"
      },
      "outputs": [],
      "source": [
        "from neuron import h, gui\n",
        "# see what is in h\n",
        "dir(h)"
      ]
    },
    {
      "attachments": {},
      "cell_type": "markdown",
      "metadata": {
        "id": "CE40rOI5CKzO"
      },
      "source": [
        "<img src=\"https://raw.githubusercontent.com/jchen6727/tutorials/master/lab2/images/tutorial/Slide6.JPG\" alt=\"\" />"
      ]
    },
    {
      "cell_type": "code",
      "execution_count": null,
      "metadata": {
        "id": "DdtqaJiNz8p9"
      },
      "outputs": [],
      "source": [
        "# create a simple model cell as a NEURON Section\n",
        "soma = h.Section(name='soma')"
      ]
    },
    {
      "attachments": {},
      "cell_type": "markdown",
      "metadata": {
        "id": "TIvLOMXNCdGJ"
      },
      "source": [
        "<img src=\"https://raw.githubusercontent.com/jchen6727/tutorials/master/lab2/images/tutorial/Slide7.JPG\" alt=\"\" />"
      ]
    },
    {
      "cell_type": "code",
      "execution_count": null,
      "metadata": {
        "id": "Ff7kIn34CvN5"
      },
      "outputs": [],
      "source": [
        "# call psection() to see details of the Section\n",
        "soma.psection()\n",
        "# probe objects with the dir() function\n",
        "dir(soma)"
      ]
    },
    {
      "attachments": {},
      "cell_type": "markdown",
      "metadata": {
        "id": "SBiaUA9-CxOi"
      },
      "source": [
        "<img src=\"https://raw.githubusercontent.com/jchen6727/tutorials/master/lab2/images/tutorial/Slide9.JPG\" alt=\"\" />"
      ]
    },
    {
      "attachments": {},
      "cell_type": "markdown",
      "metadata": {
        "id": "oqYEx3uwDHAQ"
      },
      "source": [
        "<img src=\"https://raw.githubusercontent.com/jchen6727/tutorials/master/lab2/images/tutorial/Slide10.JPG\" alt=\"\" />"
      ]
    },
    {
      "attachments": {},
      "cell_type": "markdown",
      "metadata": {
        "id": "8d97KAKwDR2W"
      },
      "source": [
        "<img src=\"https://raw.githubusercontent.com/jchen6727/tutorials/master/lab2/images/tutorial/Slide11.JPG\" alt=\"\" />"
      ]
    },
    {
      "cell_type": "code",
      "execution_count": null,
      "metadata": {
        "id": "BU810MWYz8p9"
      },
      "outputs": [],
      "source": [
        "# access sections by their name and segments\n",
        "print(\"type(soma) = {}\".format(type(soma)))\n",
        "print(\"type(soma(0.5)) = {}\".format(type(soma(0.5))))\n",
        "# set the number of segments in soma\n",
        "soma.nseg = 3\n",
        "#soma(0.1)\n",
        "#soma(0.5)\n",
        "#soma(0.9)\n",
        "soma.nseg = 1"
      ]
    },
    {
      "attachments": {},
      "cell_type": "markdown",
      "metadata": {
        "id": "LhL7xBRgD68p"
      },
      "source": [
        "<img src=\"https://raw.githubusercontent.com/jchen6727/tutorials/master/lab2/images/tutorial/Slide12.JPG\" alt=\"\" />"
      ]
    },
    {
      "cell_type": "code",
      "execution_count": null,
      "metadata": {
        "id": "_q3yz5y1z8p-"
      },
      "outputs": [],
      "source": [
        "# create a dendritic section 'dend' and connect it to the '1' end of the soma\n",
        "dend = h.Section(name='dend')\n",
        "dend.connect(soma(1))\n",
        "# check the connection by using h.psections()\n",
        "h.psection(sec=dend)\n",
        "# confirm with NEURON's topology()\n",
        "h.topology()\n",
        "# dend[0] connected to soma[1]"
      ]
    },
    {
      "attachments": {},
      "cell_type": "markdown",
      "metadata": {
        "id": "VrUiuRpVEAE-"
      },
      "source": [
        "<img src=\"https://raw.githubusercontent.com/jchen6727/tutorials/master/lab2/images/tutorial/Slide13.JPG\" alt=\"\" />"
      ]
    },
    {
      "cell_type": "code",
      "execution_count": null,
      "metadata": {
        "id": "4mX86e45z8p-"
      },
      "outputs": [],
      "source": [
        "soma.L = soma.diam = 12.6157\n",
        "dend.L = 180\n",
        "dend.diam = 1\n",
        "dend.nseg = 11\n",
        "\n",
        "print(\"Surface area of soma = {}\".format(h.area(0.5, sec=soma)))"
      ]
    },
    {
      "attachments": {},
      "cell_type": "markdown",
      "metadata": {
        "id": "LEKCWpukEHQd"
      },
      "source": [
        "<img src=\"https://raw.githubusercontent.com/jchen6727/tutorials/master/lab2/images/tutorial/Slide14.JPG\" alt=\"\" />"
      ]
    },
    {
      "cell_type": "code",
      "execution_count": null,
      "metadata": {
        "id": "IG4b5eBzz8p-"
      },
      "outputs": [],
      "source": [
        "# use h.allsec() to iterate over all sections\n",
        "for sec in h.allsec():\n",
        "    sec.Ra = 100 # Axial resistance in Ohm * cm\n",
        "    sec.cm = 1 # Membrane capacitance in uFarads / cm^2"
      ]
    },
    {
      "attachments": {},
      "cell_type": "markdown",
      "metadata": {
        "id": "02vuZ4T3EL1v"
      },
      "source": [
        "<img src=\"https://raw.githubusercontent.com/jchen6727/tutorials/master/lab2/images/tutorial/Slide15.JPG\" alt=\"\" />"
      ]
    },
    {
      "attachments": {},
      "cell_type": "markdown",
      "metadata": {
        "id": "145nYXlmEV5B"
      },
      "source": [
        "<img src=\"https://raw.githubusercontent.com/jchen6727/tutorials/master/lab2/images/tutorial/Slide16.JPG\" alt=\"\" />"
      ]
    },
    {
      "cell_type": "code",
      "execution_count": null,
      "metadata": {
        "id": "pT9yZauWz8p-"
      },
      "outputs": [],
      "source": [
        "# insert active Hodgkin-Huxley current in the soma\n",
        "soma.insert('hh')\n",
        "\n",
        "# insert passive leak current in dendrite\n",
        "dend.insert('pas')"
      ]
    },
    {
      "attachments": {},
      "cell_type": "markdown",
      "metadata": {
        "id": "Rm4mwZq4EdSM"
      },
      "source": [
        "<img src=\"https://raw.githubusercontent.com/jchen6727/tutorials/master/lab2/images/tutorial/Slide17.JPG\" alt=\"\" />"
      ]
    },
    {
      "cell_type": "code",
      "execution_count": null,
      "metadata": {
        "id": "ZlE5D4ypz8p_"
      },
      "outputs": [],
      "source": [
        "# accessing segment variables\n",
        "print(dend(0.5).pas.g)\n",
        "print(dend(0.5).g_pas)\n",
        "mech = dend(0.5).pas\n",
        "print(dir(mech))\n",
        "print(mech.g)"
      ]
    },
    {
      "attachments": {},
      "cell_type": "markdown",
      "metadata": {
        "id": "z0v1I31UEjJN"
      },
      "source": [
        "<img src=\"https://raw.githubusercontent.com/jchen6727/tutorials/master/lab2/images/tutorial/Slide18.JPG\" alt=\"\" />"
      ]
    },
    {
      "cell_type": "code",
      "execution_count": null,
      "metadata": {
        "id": "YebJjk0sz8p_"
      },
      "outputs": [],
      "source": [
        "# set variable g of ALL segments in the section using section.var_mech\n",
        "dend.g_pas = 0.001\n",
        "print(dend(0.1).pas.g)\n",
        "print(dend(0.9).pas.g)\n"
      ]
    },
    {
      "cell_type": "code",
      "execution_count": null,
      "metadata": {
        "id": "_-oKh2KJz8p_"
      },
      "outputs": [],
      "source": [
        "shape_window = h.PlotShape()\n",
        "shape_window.exec_menu('Show Diam')"
      ]
    },
    {
      "attachments": {},
      "cell_type": "markdown",
      "metadata": {
        "id": "0v7YwTYIErwE"
      },
      "source": [
        "<img src=\"https://raw.githubusercontent.com/jchen6727/tutorials/master/lab2/images/tutorial/Slide20.JPG\" alt=\"\" />"
      ]
    },
    {
      "cell_type": "code",
      "execution_count": null,
      "metadata": {
        "id": "9cTFA_x5z8qA"
      },
      "outputs": [],
      "source": [
        "soma.gnabar_hh = 0.12 \n",
        "soma.gkbar_hh = 0.036 \n",
        "soma.gl_hh = 0.0003\n",
        "soma.el_hh = -54.3\n",
        "\n",
        "dend.g_pas = 0.001\n",
        "dend.e_pas = -65"
      ]
    },
    {
      "attachments": {},
      "cell_type": "markdown",
      "metadata": {
        "id": "LzpORU0HE0oV"
      },
      "source": [
        "<img src=\"https://raw.githubusercontent.com/jchen6727/tutorials/master/lab2/images/tutorial/Slide21.JPG\" alt=\"\" />"
      ]
    },
    {
      "attachments": {},
      "cell_type": "markdown",
      "metadata": {
        "id": "shMVfwmKE4yY"
      },
      "source": [
        "<img src=\"https://raw.githubusercontent.com/jchen6727/tutorials/master/lab2/images/tutorial/Slide22.JPG\" alt=\"\" />"
      ]
    },
    {
      "cell_type": "code",
      "execution_count": null,
      "metadata": {
        "id": "42j8TTkZz8qA"
      },
      "outputs": [],
      "source": [
        "# insert a current clam (IClamp) to induce some membrane dynamics.\n",
        "stim = h.IClamp(dend(1.0))\n"
      ]
    },
    {
      "cell_type": "code",
      "execution_count": null,
      "metadata": {
        "id": "YmVPk5b5z8qA"
      },
      "outputs": [],
      "source": [
        "dir(stim)\n",
        "\n",
        "stim.amp = 0.1\n",
        "stim.delay = 20\n",
        "stim.dur = 3"
      ]
    },
    {
      "attachments": {},
      "cell_type": "markdown",
      "metadata": {
        "id": "0lpdLlOsFDfD"
      },
      "source": [
        "<img src=\"https://raw.githubusercontent.com/jchen6727/tutorials/master/lab2/images/tutorial/Slide23.JPG\" alt=\"\" />"
      ]
    },
    {
      "cell_type": "code",
      "execution_count": null,
      "metadata": {
        "id": "u7tz5E0uz8qA"
      },
      "outputs": [],
      "source": [
        "v_vec_soma = h.Vector()\n",
        "v_vec_dend = h.Vector()\n",
        "t_vec = h.Vector()\n",
        "v_vec_soma.record(soma(0.5)._ref_v)\n",
        "v_vec_dend.record(dend(1.0)._ref_v)\n",
        "t_vec.record(h._ref_t)"
      ]
    },
    {
      "attachments": {},
      "cell_type": "markdown",
      "metadata": {
        "id": "9tkfuZ0xFHhB"
      },
      "source": [
        "<img src=\"https://raw.githubusercontent.com/jchen6727/tutorials/master/lab2/images/tutorial/Slide24.JPG\" alt=\"\" />"
      ]
    },
    {
      "cell_type": "code",
      "execution_count": null,
      "metadata": {
        "id": "zFfYlW50z8qA"
      },
      "outputs": [],
      "source": [
        "h.tstop = 40\n",
        "h.load_file('stdrun.hoc')\n",
        "h.run()"
      ]
    },
    {
      "attachments": {},
      "cell_type": "markdown",
      "metadata": {
        "id": "Z4vHx3BNFLTf"
      },
      "source": [
        "<img src=\"https://raw.githubusercontent.com/jchen6727/tutorials/master/lab2/images/tutorial/Slide25.JPG\" alt=\"\" />"
      ]
    },
    {
      "cell_type": "code",
      "execution_count": null,
      "metadata": {
        "id": "nQE8R0JGz8qB"
      },
      "outputs": [],
      "source": [
        "from matplotlib import pyplot as plt\n",
        "\n",
        "plt.figure(figsize=(8,4))\n",
        "plt.plot(t_vec, v_vec_soma, 'b', label='soma')\n",
        "plt.plot(t_vec, v_vec_dend, 'r', label='dend')\n",
        "plt.xlabel('time (ms)')\n",
        "plt.ylabel('mV')\n",
        "plt.show()"
      ]
    }
  ],
  "metadata": {
    "colab": {
      "include_colab_link": true,
      "provenance": []
    },
    "kernelspec": {
      "display_name": "Python 3",
      "language": "python",
      "name": "python3"
    },
    "language_info": {
      "codemirror_mode": {
        "name": "ipython",
        "version": 3
      },
      "file_extension": ".py",
      "mimetype": "text/x-python",
      "name": "python",
      "nbconvert_exporter": "python",
      "pygments_lexer": "ipython3",
      "version": "3.6.6+"
    }
  },
  "nbformat": 4,
  "nbformat_minor": 0
}
