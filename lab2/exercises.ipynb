{
  "cells": [
    {
      "cell_type": "markdown",
      "metadata": {
        "id": "view-in-github",
        "colab_type": "text"
      },
      "source": [
        "<a href=\"https://colab.research.google.com/github/jchen6727/tutorials/blob/master/lab2/exercises.ipynb\" target=\"_parent\"><img src=\"https://colab.research.google.com/assets/colab-badge.svg\" alt=\"Open In Colab\"/></a>"
      ]
    },
    {
      "cell_type": "code",
      "execution_count": null,
      "metadata": {
        "id": "aMcGsI18rz0S"
      },
      "outputs": [],
      "source": [
        "!pip install neuron"
      ]
    },
    {
      "cell_type": "markdown",
      "metadata": {
        "id": "ikkrINQCrz0T"
      },
      "source": [
        "<img src=\"https://raw.githubusercontent.com/jchen6727/tutorials/master/lab2/images/exercises/Slide1.JPG\" alt=\"\" />"
      ]
    },
    {
      "cell_type": "markdown",
      "metadata": {
        "id": "YzV4-uBHrz0U"
      },
      "source": [
        "<img src=\"https://raw.githubusercontent.com/jchen6727/tutorials/master/lab2/images/exercises/Slide2.JPG\" alt=\"\" />"
      ]
    },
    {
      "cell_type": "markdown",
      "metadata": {
        "id": "DPC2XWFcrz0U"
      },
      "source": [
        "<img src=\"https://raw.githubusercontent.com/jchen6727/tutorials/master/lab2/images/exercises/Slide3.JPG\" alt=\"\" />"
      ]
    },
    {
      "cell_type": "markdown",
      "metadata": {
        "id": "9yHE9pm7rz0U"
      },
      "source": [
        "<img src=\"https://raw.githubusercontent.com/jchen6727/tutorials/master/lab2/images/exercises/Slide4.JPG\" alt=\"\" />"
      ]
    },
    {
      "cell_type": "markdown",
      "metadata": {
        "id": "Sk9Io2G8rz0U"
      },
      "source": [
        "<img src=\"https://raw.githubusercontent.com/jchen6727/tutorials/master/lab2/images/exercises/Slide5.JPG\" alt=\"\" />"
      ]
    },
    {
      "cell_type": "markdown",
      "metadata": {
        "id": "2x9A4B7-rz0U"
      },
      "source": [
        "<img src=\"https://raw.githubusercontent.com/jchen6727/tutorials/master/lab2/images/exercises/Slide6.JPG\" alt=\"\" />"
      ]
    },
    {
      "cell_type": "markdown",
      "metadata": {
        "id": "bfQV4Nwmrz0U"
      },
      "source": [
        "<img src=\"https://raw.githubusercontent.com/jchen6727/tutorials/master/lab2/images/exercises/Slide7.JPG\" alt=\"\" />"
      ]
    },
    {
      "cell_type": "markdown",
      "metadata": {
        "id": "lJ6RWq3Arz0U"
      },
      "source": [
        "<img src=\"https://raw.githubusercontent.com/jchen6727/tutorials/master/lab2/images/exercises/Slide8.JPG\" alt=\"\" />"
      ]
    },
    {
      "cell_type": "markdown",
      "metadata": {
        "id": "tFGumtNmrz0U"
      },
      "source": [
        "<img src=\"https://raw.githubusercontent.com/jchen6727/tutorials/master/lab2/images/exercises/Slide9.JPG\" alt=\"\" />"
      ]
    },
    {
      "cell_type": "markdown",
      "metadata": {
        "id": "i5Vj6Ynnrz0U"
      },
      "source": [
        "<img src=\"https://raw.githubusercontent.com/jchen6727/tutorials/master/lab2/images/exercises/Slide10.JPG\" alt=\"\" />"
      ]
    }
  ],
  "metadata": {
    "language_info": {
      "name": "python"
    },
    "orig_nbformat": 4,
    "colab": {
      "provenance": [],
      "include_colab_link": true
    }
  },
  "nbformat": 4,
  "nbformat_minor": 0
}