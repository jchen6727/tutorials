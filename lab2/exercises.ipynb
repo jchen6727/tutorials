{
 "cells": [
  {
   "cell_type": "code",
   "execution_count": null,
   "metadata": {},
   "outputs": [],
   "source": [
    "!pip install neuron"
   ]
  },
  {
   "attachments": {},
   "cell_type": "markdown",
   "metadata": {},
   "source": [
    "<img src=\"https://raw.githubusercontent.com/jchen6727/tutorials/master/lab2/images/exercises/Slide1.JPG\" alt=\"\" />"
   ]
  },
  {
   "attachments": {},
   "cell_type": "markdown",
   "metadata": {},
   "source": [
    "<img src=\"https://raw.githubusercontent.com/jchen6727/tutorials/master/lab2/images/exercises/Slide2.JPG\" alt=\"\" />"
   ]
  },
  {
   "attachments": {},
   "cell_type": "markdown",
   "metadata": {},
   "source": [
    "<img src=\"https://raw.githubusercontent.com/jchen6727/tutorials/master/lab2/images/exercises/Slide3.JPG\" alt=\"\" />"
   ]
  },
  {
   "attachments": {},
   "cell_type": "markdown",
   "metadata": {},
   "source": [
    "<img src=\"https://raw.githubusercontent.com/jchen6727/tutorials/master/lab2/images/exercises/Slide4.JPG\" alt=\"\" />"
   ]
  },
  {
   "attachments": {},
   "cell_type": "markdown",
   "metadata": {},
   "source": [
    "<img src=\"https://raw.githubusercontent.com/jchen6727/tutorials/master/lab2/images/exercises/Slide5.JPG\" alt=\"\" />"
   ]
  },
  {
   "attachments": {},
   "cell_type": "markdown",
   "metadata": {},
   "source": [
    "<img src=\"https://raw.githubusercontent.com/jchen6727/tutorials/master/lab2/images/exercises/Slide6.JPG\" alt=\"\" />"
   ]
  },
  {
   "attachments": {},
   "cell_type": "markdown",
   "metadata": {},
   "source": [
    "<img src=\"https://raw.githubusercontent.com/jchen6727/tutorials/master/lab2/images/exercises/Slide7.JPG\" alt=\"\" />"
   ]
  },
  {
   "attachments": {},
   "cell_type": "markdown",
   "metadata": {},
   "source": [
    "<img src=\"https://raw.githubusercontent.com/jchen6727/tutorials/master/lab2/images/exercises/Slide8.JPG\" alt=\"\" />"
   ]
  },
  {
   "attachments": {},
   "cell_type": "markdown",
   "metadata": {},
   "source": [
    "<img src=\"https://raw.githubusercontent.com/jchen6727/tutorials/master/lab2/images/exercises/Slide9.JPG\" alt=\"\" />"
   ]
  },
  {
   "attachments": {},
   "cell_type": "markdown",
   "metadata": {},
   "source": [
    "<img src=\"https://raw.githubusercontent.com/jchen6727/tutorials/master/lab2/images/exercises/Slide10.JPG\" alt=\"\" />"
   ]
  }
 ],
 "metadata": {
  "language_info": {
   "name": "python"
  },
  "orig_nbformat": 4
 },
 "nbformat": 4,
 "nbformat_minor": 2
}
