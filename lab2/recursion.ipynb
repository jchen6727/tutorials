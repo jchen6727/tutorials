{
  "cells": [
    {
      "cell_type": "code",
      "execution_count": null,
      "metadata": {
        "id": "DrUhcdnl4S-t"
      },
      "outputs": [],
      "source": [
        "# secret is a list of unknown length containing numbers 0 through 4 in sequence (repetitions are possible).\n",
        "# can you write a function to guess it?\n",
        "secret = [0, 1, 0, 3, 1, 2]\n",
        "options = set(secret)\n",
        "answer = []\n",
        "def guess(prev):\n",
        "    if prev == secret:\n",
        "        return\n",
        "    if prev != secret[:len(prev)]:\n",
        "        prev.pop()\n",
        "        return\n",
        "    for i in options:\n",
        "        prev.append(i)\n",
        "        guess(prev)\n",
        "        \n",
        "guess(answer)\n",
        "print(answer)\n",
        "answer = []"
      ]
    }
  ],
  "metadata": {
    "kernelspec": {
      "display_name": "Python 3",
      "language": "python",
      "name": "python3"
    },
    "language_info": {
      "codemirror_mode": {
        "name": "ipython",
        "version": 3
      },
      "file_extension": ".py",
      "mimetype": "text/x-python",
      "name": "python",
      "nbconvert_exporter": "python",
      "pygments_lexer": "ipython3",
      "version": "3.6.6+"
    },
    "colab": {
      "provenance": []
    }
  },
  "nbformat": 4,
  "nbformat_minor": 0
}