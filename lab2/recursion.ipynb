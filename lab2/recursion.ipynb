{
  "cells": [
    {
      "cell_type": "markdown",
      "metadata": {
        "id": "view-in-github",
        "colab_type": "text"
      },
      "source": [
        "<a href=\"https://colab.research.google.com/github/jchen6727/tutorials/blob/master/lab2/recursion.ipynb\" target=\"_parent\"><img src=\"https://colab.research.google.com/assets/colab-badge.svg\" alt=\"Open In Colab\"/></a>"
      ]
    },
    {
      "cell_type": "code",
      "execution_count": null,
      "metadata": {
        "id": "WQB00nWg4S-s"
      },
      "outputs": [],
      "source": []
    },
    {
      "cell_type": "code",
      "execution_count": 33,
      "metadata": {
        "id": "DrUhcdnl4S-t",
        "outputId": "bda6d88b-65d8-4821-fec3-94e82c5af31a",
        "colab": {
          "base_uri": "https://localhost:8080/"
        }
      },
      "outputs": [
        {
          "output_type": "stream",
          "name": "stdout",
          "text": [
            "seems like [0, 0] is not the right answer...\n",
            "seems like [0, 1, 0, 0] is not the right answer...\n",
            "seems like [0, 1, 0, 1] is not the right answer...\n",
            "seems like [0, 1, 0, 2] is not the right answer...\n",
            "seems like [0, 1, 0, 3, 0] is not the right answer...\n",
            "seems like [0, 1, 0, 3, 1, 0] is not the right answer...\n",
            "seems like [0, 1, 0, 3, 1, 1] is not the right answer...\n",
            "my answer is [0, 1, 0, 3, 1, 2]!\n",
            "seems like [0, 1, 0, 3, 1, 3] is not the right answer...\n",
            "seems like [0, 1, 0, 3, 2] is not the right answer...\n",
            "seems like [0, 1, 0, 3, 3] is not the right answer...\n",
            "seems like [0, 1, 1] is not the right answer...\n",
            "seems like [0, 1, 2] is not the right answer...\n",
            "seems like [0, 1, 3] is not the right answer...\n",
            "seems like [0, 2] is not the right answer...\n",
            "seems like [0, 3] is not the right answer...\n",
            "seems like [1] is not the right answer...\n",
            "seems like [2] is not the right answer...\n",
            "seems like [3] is not the right answer...\n",
            "[0, 1, 0, 3, 1, 2]\n"
          ]
        }
      ],
      "source": [
        "# secret is a list of unknown length containing numbers 0 through 4 in sequence (repetitions are possible).\n",
        "# can you write a function to guess it?\n",
        "secret = [0, 1, 0, 3, 1, 2]\n",
        "options = set(secret)\n",
        "answer = []\n",
        "def guess(prev = []):\n",
        "    if prev == secret:\n",
        "        print(\"my answer is {}!\".format(prev))\n",
        "        answer.append(prev)\n",
        "        return True\n",
        "    if prev != secret[:len(prev)]:\n",
        "        print(\"seems like {} is not the right answer...\".format(prev))\n",
        "        return False\n",
        "    for i in options:\n",
        "        next_g = prev + [i]\n",
        "        guess(next_g)\n",
        "guess()\n",
        "print(answer.pop())"
      ]
    },
    {
      "cell_type": "code",
      "execution_count": 30,
      "metadata": {
        "id": "cp22nKmq4S-v"
      },
      "outputs": [],
      "source": [
        "secret = [0, 1, 0, 3, 1, 2]\n",
        "options = set(secret)\n",
        "answer = []\n",
        "\n"
      ]
    }
  ],
  "metadata": {
    "kernelspec": {
      "display_name": "Python 3",
      "language": "python",
      "name": "python3"
    },
    "language_info": {
      "codemirror_mode": {
        "name": "ipython",
        "version": 3
      },
      "file_extension": ".py",
      "mimetype": "text/x-python",
      "name": "python",
      "nbconvert_exporter": "python",
      "pygments_lexer": "ipython3",
      "version": "3.6.6+"
    },
    "colab": {
      "provenance": [],
      "include_colab_link": true
    }
  },
  "nbformat": 4,
  "nbformat_minor": 0
}