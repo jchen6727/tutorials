{
  "cells": [
    {
      "cell_type": "markdown",
      "metadata": {
        "id": "view-in-github",
        "colab_type": "text"
      },
      "source": [
        "<a href=\"https://colab.research.google.com/github/jchen6727/tutorials/blob/master/lab2/recursion.ipynb\" target=\"_parent\"><img src=\"https://colab.research.google.com/assets/colab-badge.svg\" alt=\"Open In Colab\"/></a>"
      ]
    },
    {
      "cell_type": "code",
      "source": [
        "# secret is a list of unknown length containing numbers 0 through 4 in sequence (repetitions are possible).\n",
        "# can you write a function to guess it?\n",
        "# pseudocode for our function\n",
        "secret = [0, 1, 0, 3, 1, 2]\n",
        "options = set(secret)\n",
        "answer = []\n",
        "\n",
        "# pass guess a mutable object, which guess will \"fill\" with the answer\n",
        "def guess(curr):\n",
        "    if ...:\n",
        "        # if the current guess is the secret, return it\n",
        "    if ...:\n",
        "        # if the current guess will not lead to the secret, prune it and return\n",
        "    for ...:\n",
        "        # generate the next guesses based on the current guess and then guess() them\n",
        "\n",
        "guess(answer)\n",
        "print(answer)\n",
        "answer = []"
      ],
      "metadata": {
        "id": "InqCKrDl-Ac1"
      },
      "execution_count": null,
      "outputs": []
    },
    {
      "cell_type": "code",
      "execution_count": null,
      "metadata": {
        "id": "DrUhcdnl4S-t"
      },
      "outputs": [],
      "source": [
        "# secret is a list of unknown length containing numbers 0 through 4 in sequence (repetitions are possible).\n",
        "# can you write a function to guess it?\n",
        "secret = [0, 1, 0, 3, 1, 2]\n",
        "options = set(secret)\n",
        "answer = []\n",
        "def guess(curr):\n",
        "    if curr == secret:\n",
        "        return\n",
        "    if curr != secret[:len(curr)]:\n",
        "        curr.pop()\n",
        "        return\n",
        "    for i in options:\n",
        "        curr.append(i)\n",
        "        guess(curr)\n",
        "        \n",
        "guess(answer)\n",
        "print(answer)\n",
        "answer = []"
      ]
    },
    {
      "cell_type": "code",
      "source": [
        "# create a NEURON dendritic tree with depth of 4 with each parent section splitting into 2 children section\n",
        "goaldepth = 4\n",
        "nchildren = 2\n",
        "\n",
        "def branch(parent, currdepth = 0):\n",
        "    if ...: return # if the currdepth is the goaldepth, return\n",
        "    # else, create 2 children and attach them to the parent \n",
        "    for i in range(nchildren):\n",
        "      #\n",
        "      nchildren"
      ],
      "metadata": {
        "id": "pnubvK2qCHjC"
      },
      "execution_count": null,
      "outputs": []
    }
  ],
  "metadata": {
    "kernelspec": {
      "display_name": "Python 3",
      "language": "python",
      "name": "python3"
    },
    "language_info": {
      "codemirror_mode": {
        "name": "ipython",
        "version": 3
      },
      "file_extension": ".py",
      "mimetype": "text/x-python",
      "name": "python",
      "nbconvert_exporter": "python",
      "pygments_lexer": "ipython3",
      "version": "3.6.6+"
    },
    "colab": {
      "provenance": [],
      "include_colab_link": true
    }
  },
  "nbformat": 4,
  "nbformat_minor": 0
}