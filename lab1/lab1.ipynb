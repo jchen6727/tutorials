{
  "nbformat": 4,
  "nbformat_minor": 0,
  "metadata": {
    "colab": {
      "provenance": []
    },
    "kernelspec": {
      "name": "python3",
      "display_name": "Python 3"
    },
    "language_info": {
      "name": "python"
    }
  },
  "cells": [
    {
      "cell_type": "markdown",
      "source": [
        "# Computational Neuroscience - Lab 2\n",
        "- Funcions \n",
        "- Modules\n",
        "- Classes and Objects\n",
        "- Plotting"
      ],
      "metadata": {
        "id": "QVjusX7TkNlg"
      }
    },
    {
      "cell_type": "markdown",
      "source": [
        "# Functions\n",
        "- Further reading:\n",
        "https://en.wikibooks.org/wiki/A_Beginner%27s_Python_Tutorial/Functions"
      ],
      "metadata": {
        "id": "ekOyeFi-ldnR"
      }
    },
    {
      "cell_type": "code",
      "source": [
        "# Function Syntax:\n",
        "'''\n",
        "def function_name(parameter_1, parameter_2, ..., parameter_n):\n",
        "    {this is the code in the function}\n",
        "    {more code}\n",
        "    {more code}\n",
        "    return {value to return to the main program}\n",
        "{this code isn't in the function}\n",
        "{because it isn't indented}\n",
        "#remember to put a colon \":\" at the end\n",
        "#of the line that starts with 'def'\n",
        "'''"
      ],
      "metadata": {
        "id": "sXGwVM0E2p6K",
        "colab": {
          "base_uri": "https://localhost:8080/",
          "height": 70
        },
        "outputId": "e5d0520d-93e9-400d-d0f2-19bd33cf87d6"
      },
      "execution_count": 1,
      "outputs": [
        {
          "output_type": "execute_result",
          "data": {
            "text/plain": [
              "'\\ndef function_name(parameter_1, parameter_2, ..., parameter_n):\\n    {this is the code in the function}\\n    {more code}\\n    {more code}\\n    return {value to return to the main program}\\n{this code isn\\'t in the function}\\n{because it isn\\'t indented}\\n#remember to put a colon \":\" at the end\\n#of the line that starts with \\'def\\'\\n'"
            ],
            "application/vnd.google.colaboratory.intrinsic+json": {
              "type": "string"
            }
          },
          "metadata": {},
          "execution_count": 1
        }
      ]
    },
    {
      "cell_type": "code",
      "source": [
        "# --- Declaration\n",
        "def function_name(input_parameter):\n",
        "  print('My job is to print the input: ', input_parameter)"
      ],
      "metadata": {
        "id": "0x6yCyP0ldYs"
      },
      "execution_count": 2,
      "outputs": []
    },
    {
      "cell_type": "code",
      "source": [
        "# --- Code Example 1 - How to call a function\n",
        "parameters = 'parameter_name'\n",
        "function_name(parameters)"
      ],
      "metadata": {
        "id": "d_zbW7sjkx3M",
        "colab": {
          "base_uri": "https://localhost:8080/"
        },
        "outputId": "a6f54eaa-d8ab-4e31-ef2f-a30e106504c2"
      },
      "execution_count": 3,
      "outputs": [
        {
          "output_type": "stream",
          "name": "stdout",
          "text": [
            "My job is to print the input:  parameter_name\n"
          ]
        }
      ]
    },
    {
      "cell_type": "code",
      "source": [
        "# --- Transformation within a function\n",
        "def classify_input(input):\n",
        "  if type(input) == str:\n",
        "    print('The input is a String variable: ', input)\n",
        "  elif type(input) == bool:\n",
        "    print('The input is a Boolean variable: ', input)\n",
        "  else:\n",
        "    try:\n",
        "      if input%2==0:\n",
        "        print('The input is an even number: ', input)\n",
        "      else:\n",
        "        print('The input is an odd number: ', input)\n",
        "    except:\n",
        "      print('Cant process the input provided: ', input)"
      ],
      "metadata": {
        "id": "E7u0xhjYmEMM"
      },
      "execution_count": 4,
      "outputs": []
    },
    {
      "cell_type": "code",
      "source": [
        "input_a='Hi'\n",
        "classify_input(input_a)\n",
        "#\n",
        "input_b = 37\n",
        "classify_input(input_b)"
      ],
      "metadata": {
        "id": "uSzRQneMkxu3",
        "colab": {
          "base_uri": "https://localhost:8080/"
        },
        "outputId": "e0b6b6b0-88b9-4be0-c0cd-d70d231e1473"
      },
      "execution_count": 5,
      "outputs": [
        {
          "output_type": "stream",
          "name": "stdout",
          "text": [
            "The input is a String variable:  Hi\n",
            "The input is an odd number:  37\n"
          ]
        }
      ]
    },
    {
      "cell_type": "code",
      "source": [
        "input1 = 'Hey'\n",
        "input2 = 45\n",
        "input3 = 6\n",
        "input4 = True\n",
        "input5 = 45.87\n",
        "inputs=[input1,input2,input3,input4,input5]\n",
        "\n",
        "for input_variable in inputs:\n",
        "  classify_input(input_variable)"
      ],
      "metadata": {
        "id": "jcfZHzA6kxnD",
        "colab": {
          "base_uri": "https://localhost:8080/"
        },
        "outputId": "34f7b736-c420-4bcc-c780-cbb6b3e09d3e"
      },
      "execution_count": 6,
      "outputs": [
        {
          "output_type": "stream",
          "name": "stdout",
          "text": [
            "The input is a String variable:  Hey\n",
            "The input is an odd number:  45\n",
            "The input is an even number:  6\n",
            "The input is a Boolean variable:  True\n",
            "The input is an odd number:  45.87\n"
          ]
        }
      ]
    },
    {
      "cell_type": "code",
      "source": [
        "input1 = 'Hey'\n",
        "input2 = 45\n",
        "input3 = 6\n",
        "input4 = True\n",
        "input5 = 45.87\n",
        "inputs=[input1,input2,input3,input4,input5]\n",
        "\n",
        "for input_index,input_variable in enumerate(inputs):\n",
        "  print('Processing input #', input_index)\n",
        "  classify_input(input_variable)\n",
        "  print('\\n')"
      ],
      "metadata": {
        "id": "Ddy58SOAnc2U"
      },
      "execution_count": null,
      "outputs": []
    },
    {
      "cell_type": "code",
      "source": [
        "def make_it_even(input):\n",
        "  '1) Lets build this function together'\n",
        "  '2) Lets add an output for the function in the form of a <return> statement'\n",
        "  # if \n",
        "\n",
        "  # elif/else\n",
        "\n",
        "##############################################################################\n",
        "input_X = 58\n",
        "\n",
        "input_Y = 4\n"
      ],
      "metadata": {
        "id": "RomdiDKHthys"
      },
      "execution_count": null,
      "outputs": []
    },
    {
      "cell_type": "markdown",
      "source": [
        "- Extra content: **Recursion**"
      ],
      "metadata": {
        "id": "YrOJiN2fuBYl"
      }
    },
    {
      "cell_type": "code",
      "source": [
        "def countdown(n):\n",
        "    print(n)\n",
        "    if n == 0:\n",
        "        return             # Terminate recursion\n",
        "    else:\n",
        "        countdown(n - 1)   # Recursive call\n",
        "\n",
        "countdown(n=100)"
      ],
      "metadata": {
        "id": "-Af0ejDmqq7q"
      },
      "execution_count": null,
      "outputs": []
    },
    {
      "cell_type": "code",
      "source": [
        "import time\n",
        "def double_and_give_it_to_the_next_person(input):\n",
        "    if input<10000000:\n",
        "      input=input*2\n",
        "      print('Value is doubled to ', input)\n",
        "      time.sleep(1)\n",
        "      double_and_give_it_to_the_next_person(input)\n",
        "    else:\n",
        "      print('Youtuber is broke')\n",
        "\n",
        "input=1\n",
        "double_and_give_it_to_the_next_person(input)"
      ],
      "metadata": {
        "id": "THdZXecinTvj"
      },
      "execution_count": null,
      "outputs": []
    },
    {
      "cell_type": "markdown",
      "source": [
        "**Exercises**\n",
        "- Exercise 1) Try to execute the Python Calculator example in the Wikipedia tutorial\n",
        "\n",
        "- Exercise 2) Solve the following problem:\n",
        "  - Create a function that takes two numbers as arguments (e.g. 10 & 4; 5 & 100)\n",
        "  - Calculate the ratio between the larger and the smaller\n",
        "  - The function should be able to identify it, regardless of the order\n",
        "  - Provide the result in the form of a *return* statement"
      ],
      "metadata": {
        "id": "WSyPCPYO3YMC"
      }
    },
    {
      "cell_type": "markdown",
      "source": [
        "# Modules\n",
        "- Further reading:\n",
        "https://en.wikibooks.org/wiki/A_Beginner%27s_Python_Tutorial/Importing_Modules"
      ],
      "metadata": {
        "id": "vNidRG-32HIj"
      }
    },
    {
      "cell_type": "markdown",
      "source": [
        "# Modules Syntax:\n"
      ],
      "metadata": {
        "id": "zZ7yadIT9jdb"
      }
    },
    {
      "cell_type": "code",
      "source": [
        "# --- Create a file named MODULE_NAME.py and add the following code\n",
        "'''\n",
        "variable_name='variable'\n",
        "def method_name():\n",
        "  print('method')\n",
        "\n",
        "class Class_name:\n",
        "  var_name = 'var name'\n",
        "  def meth_name():\n",
        "    print('meth name')\n",
        "'''"
      ],
      "metadata": {
        "id": "OhX8frFBQURA"
      },
      "execution_count": null,
      "outputs": []
    },
    {
      "cell_type": "markdown",
      "source": [
        "- Importing a module\n",
        "- MODULE_NAME is the path to the file you want to import, which includes the file name without the extension"
      ],
      "metadata": {
        "id": "k3qKK9jq-BuG"
      }
    },
    {
      "cell_type": "code",
      "source": [
        "import MODULE_NAME "
      ],
      "metadata": {
        "id": "qaDMDWvH-EAM"
      },
      "execution_count": null,
      "outputs": []
    },
    {
      "cell_type": "markdown",
      "source": [
        "- Acessing variables/methods"
      ],
      "metadata": {
        "id": "eBrj8ofF-Ov3"
      }
    },
    {
      "cell_type": "code",
      "source": [
        "MODULE_NAME.variable_name\n",
        "MODULE_NAME.method_name()"
      ],
      "metadata": {
        "colab": {
          "base_uri": "https://localhost:8080/"
        },
        "id": "R4UxpbOp9_qD",
        "outputId": "c2cf5c26-dc42-4e62-b5a7-b437062d28cd"
      },
      "execution_count": null,
      "outputs": [
        {
          "output_type": "stream",
          "name": "stdout",
          "text": [
            "method\n"
          ]
        }
      ]
    },
    {
      "cell_type": "markdown",
      "source": [
        "- Acessing Classes (and variables/methods)"
      ],
      "metadata": {
        "id": "OKcn9BH593Z5"
      }
    },
    {
      "cell_type": "code",
      "source": [
        "MODULE_NAME.Class_name\n",
        "MODULE_NAME.Class_name.var_name\n",
        "MODULE_NAME.Class_name.meth_name()"
      ],
      "metadata": {
        "colab": {
          "base_uri": "https://localhost:8080/"
        },
        "id": "N0mXO8Ha9xt7",
        "outputId": "267b1539-643d-4a09-aa3a-8cdc24c68a01"
      },
      "execution_count": null,
      "outputs": [
        {
          "output_type": "stream",
          "name": "stdout",
          "text": [
            "Class method\n"
          ]
        }
      ]
    },
    {
      "cell_type": "markdown",
      "source": [
        "- Importing a Class or only methods directly from a Class\n",
        "- Class_abreviation/method_abreviation can be any new name for the class/method"
      ],
      "metadata": {
        "id": "5lI02W7V91Hc"
      }
    },
    {
      "cell_type": "code",
      "source": [
        "from MODULE_NAME import Class_name\n",
        "from MODULE_NAME import Class_name as Class_abreviation"
      ],
      "metadata": {
        "id": "T4WsoRMC9tsk"
      },
      "execution_count": null,
      "outputs": []
    },
    {
      "cell_type": "code",
      "source": [
        "# Modules Syntax:\n",
        "'''\n",
        "- Importing a module\n",
        "- MODULE_NAME is the path to the file you want to import, which includes the file name without the extension\n",
        "\n",
        "import MODULE_NAME \n",
        "\n",
        "- Acessing variables\n",
        "MODULE_NAME.variable_name\n",
        "\n",
        "- Acessing methods\n",
        "MODULE_NAME.method_name()\n",
        "\n",
        "- Acessing Classes (and variables/methods)\n",
        "MODULE_NAME.Class_name\n",
        "MODULE_NAME.Class_name.variable_name\n",
        "MODULE_NAME.Class_name.method_name()\n",
        "\n",
        "- Importing a Class or only methods directly from a Class\n",
        "- Class_abreviation/method_abreviation can be any new name for the class/method\n",
        "\n",
        "from MODULE_NAME import Class_name\n",
        "from MODULE_NAME import Class_name as Class_abreviation\n",
        "from MODULE_NAME import Class_name.method_name() as method_abreviation\n",
        "\n",
        "'''"
      ],
      "metadata": {
        "id": "6HVZgzS08Poo"
      },
      "execution_count": null,
      "outputs": []
    },
    {
      "cell_type": "code",
      "source": [
        "# --- Create a file named Module_tutorial.py and add the following code\n",
        "'''\n",
        "numberone = 1\n",
        "myphdprogram = 'NBS'\n",
        "\n",
        "def printhello():\n",
        "  print('Hello')\n",
        "'''"
      ],
      "metadata": {
        "id": "pwoNUY7bQ4FQ"
      },
      "execution_count": null,
      "outputs": []
    },
    {
      "cell_type": "code",
      "source": [
        "import Module_tutorial\n",
        "\n",
        "print(Module_tutorial.numberone)\n",
        "print(Module_tutorial.myphdprogram)"
      ],
      "metadata": {
        "id": "acN3pZFW2RRN",
        "colab": {
          "base_uri": "https://localhost:8080/"
        },
        "outputId": "609e469d-ff4d-4d78-f94a-5555894dd952"
      },
      "execution_count": null,
      "outputs": [
        {
          "output_type": "stream",
          "name": "stdout",
          "text": [
            "1\n",
            "Neuroscience\n"
          ]
        }
      ]
    },
    {
      "cell_type": "code",
      "source": [
        "import Module_tutorial as Mt\n",
        "\n",
        "print(Mt.numberone)\n",
        "print(Mt.myphdprogram)\n",
        "\n",
        "Mt.printhello()"
      ],
      "metadata": {
        "colab": {
          "base_uri": "https://localhost:8080/"
        },
        "id": "DnlTo2RH8hYW",
        "outputId": "9da862d7-8ec5-49a7-ef35-27a09544f3ae"
      },
      "execution_count": null,
      "outputs": [
        {
          "output_type": "stream",
          "name": "stdout",
          "text": [
            "1\n",
            "Neuroscience\n",
            "Hello\n"
          ]
        }
      ]
    },
    {
      "cell_type": "markdown",
      "source": [
        "# Classes\n",
        "- Further reading:\n",
        "https://en.wikibooks.org/wiki/A_Beginner%27s_Python_Tutorial/Classes"
      ],
      "metadata": {
        "id": "9UpOdK2B2SFG"
      }
    },
    {
      "cell_type": "code",
      "source": [
        "# --- A simple class \n",
        "class Dog:  \n",
        "    # attributes\n",
        "    attr1 = \"mammal\"\n",
        "    attr2 = \"dog\"\n",
        "    # init method or constructor   \n",
        "    def __init__(self, name):  \n",
        "        self.name = name  \n",
        "    # A sample method   \n",
        "    def fun(self):  \n",
        "        print(\"I'm a\", self.attr1) \n",
        "        print(\"I'm a\", self.attr2) \n",
        "        print(\"My name is\", self.name) \n",
        "\n",
        "# Driver code \n",
        "# Object instantiation \n",
        "first_dog = Dog('Justin') \n",
        "\n",
        "# Accessing class attributes \n",
        "# and method through objects \n",
        "print(first_dog.attr1) \n",
        "first_dog.fun() "
      ],
      "metadata": {
        "id": "LocOYmmQJZF4"
      },
      "execution_count": null,
      "outputs": []
    },
    {
      "cell_type": "code",
      "source": [
        "# --- Create a file named Module_class_tutorial.py and add the following code\n",
        "'''\n",
        "class Animal:\n",
        "  def __init__(self,animal_name,animal_type):\n",
        "    self.animal_name = animal_name\n",
        "    self.animal_type = animal_type\n",
        "\n",
        "  def rename_my_pet(self,new_name):\n",
        "    self.animal_name = new_name\n",
        "\n",
        "  def how_to_pet(self,animal_type):\n",
        "    if self.animal_type == 'Dog':\n",
        "      self.petting = 'rub my belly'\n",
        "    elif self.animal_type == 'Cat':\n",
        "      self.petting = 'scratch my back'\n",
        "    elif self.animal_type == 'Mouse':\n",
        "      self.petting = 'play with me'\n",
        "    elif self.animal_type == 'Parrot':\n",
        "      self.petting = 'teach me a word'\n",
        "    else:\n",
        "      self.petting = 'ask for help'\n",
        "'''"
      ],
      "metadata": {
        "id": "91AOU7OyRkbQ"
      },
      "execution_count": null,
      "outputs": []
    },
    {
      "cell_type": "code",
      "source": [
        "from Module_class_tutorial import Animal\n",
        "\n",
        "my_pet_1=Animal('Spike','Dog')\n",
        "my_pet_1.how_to_pet()\n",
        "\n",
        "print()# skip line\n",
        "\n",
        "my_pet_2=Animal('Kiki','Cat')\n",
        "my_pet_2.how_to_pet()\n",
        "\n",
        "print()# skip line\n",
        "\n",
        "my_pet_3=Animal('Nico','Mouse')\n",
        "my_pet_3.name='Nicholas' # spot the mistake\n",
        "my_pet_3.how_to_pet()\n",
        "\n",
        "print()# skip line\n",
        "\n",
        "my_pet_4=Animal('Toby','Lizard')\n",
        "my_pet_4.how_to_pet()\n",
        "\n"
      ],
      "metadata": {
        "id": "iaNeJKX9Ll5d"
      },
      "execution_count": null,
      "outputs": []
    },
    {
      "cell_type": "code",
      "execution_count": null,
      "metadata": {
        "id": "8vinrwvQkHvK"
      },
      "outputs": [],
      "source": [
        "# An example of a class\n",
        "class Shape:\n",
        "\n",
        "    def __init__(self, x, y):\n",
        "        self.x = x\n",
        "        self.y = y\n",
        "        self.description = \"This shape has not been described yet\"\n",
        "        self.author = \"Nobody has claimed to make this shape yet\"\n",
        "    \n",
        "    def shapeProperties(self):\n",
        "        return 'X: ', self.x,\\\n",
        "               'Y: ', self.y,\\\n",
        "               'Description: ', self.description,\\\n",
        "               'Author: ', self.author\n",
        "         \n",
        "\n",
        "    def area(self):\n",
        "        return self.x * self.y\n",
        "\n",
        "    def perimeter(self):\n",
        "        return 2 * self.x + 2 * self.y\n",
        "\n",
        "    def describe(self, text):\n",
        "        self.description = text\n",
        "\n",
        "    def authorName(self, text):\n",
        "        self.author = text\n",
        "\n",
        "    def scaleSize(self, scale):\n",
        "        self.x = self.x * scale\n",
        "        self.y = self.y * scale"
      ]
    },
    {
      "cell_type": "code",
      "source": [
        "x_val = 10\n",
        "y_val = 15\n",
        "my_shape = Shape(y=y_val,x=x_val)\n",
        "print('Area: ',         my_shape.area())\n",
        "print('Perimeter: ',    my_shape.perimeter())\n",
        "print(my_shape.shapeProperties())\n",
        "print()\n",
        "\n",
        "my_shape.describe('This is a Rectangle')\n",
        "my_shape.authorName('Joao Moreira')\n",
        "scale=30\n",
        "my_shape.scaleSize(scale)\n",
        "\n",
        "print('Describe: ',     my_shape.description)\n",
        "print('Author Name: ',  my_shape.author)\n",
        "print('New Size - X and Y scaled by (',scale,'x ):')\n",
        "print('\\tX: ', my_shape.x,'\\tY: ',my_shape.y,'\\tArea: ',my_shape.area())\n"
      ],
      "metadata": {
        "id": "R9RhGDaGT2YY"
      },
      "execution_count": null,
      "outputs": []
    },
    {
      "cell_type": "code",
      "source": [
        "class_dict={}\n",
        "\n",
        "class_dict['Rect_30x']=my_shape\n",
        "\n",
        "# my_shape.describe('This is a 30x Rectangle')\n",
        "\n",
        "class_dict['Rect_30x'].description"
      ],
      "metadata": {
        "id": "UXLAz2ogbtO9"
      },
      "execution_count": null,
      "outputs": []
    },
    {
      "cell_type": "markdown",
      "source": [
        "# Plotting\n",
        "- Further reading:\n",
        "https://www.w3schools.com/python/matplotlib_plotting.asp"
      ],
      "metadata": {
        "id": "COySpML2dMOw"
      }
    },
    {
      "cell_type": "markdown",
      "source": [
        "# Plotting x and y points"
      ],
      "metadata": {
        "id": "1OpI3e29dtoX"
      }
    },
    {
      "cell_type": "code",
      "source": [
        "import matplotlib.pyplot as plt\n",
        "import numpy as np\n",
        "\n",
        "xpoints = np.array([1, 8])\n",
        "ypoints = np.array([3, 10])\n",
        "\n",
        "plt.plot(xpoints, ypoints)\n",
        "plt.show()"
      ],
      "metadata": {
        "colab": {
          "base_uri": "https://localhost:8080/",
          "height": 265
        },
        "id": "gvy0g4wEdZP_",
        "outputId": "77eb20b4-cc5e-4cd7-bfc5-c46ceded52c5"
      },
      "execution_count": null,
      "outputs": [
        {
          "output_type": "display_data",
          "data": {
            "text/plain": [
              "<Figure size 432x288 with 1 Axes>"
            ],
            "image/png": "[encoded data removed]"
          },
          "metadata": {
            "needs_background": "light"
          }
        }
      ]
    },
    {
      "cell_type": "markdown",
      "source": [
        "# Plotting Without Line"
      ],
      "metadata": {
        "id": "U6aYxwVrdpeb"
      }
    },
    {
      "cell_type": "code",
      "source": [
        "import matplotlib.pyplot as plt\n",
        "import numpy as np\n",
        "\n",
        "xpoints = np.array([1, 8])\n",
        "ypoints = np.array([3, 10])\n",
        "\n",
        "plt.plot(xpoints, ypoints, 'o')\n",
        "plt.show()"
      ],
      "metadata": {
        "colab": {
          "base_uri": "https://localhost:8080/",
          "height": 265
        },
        "id": "c8PYjdWBdqLO",
        "outputId": "6c692f5b-cd7f-4a3f-98b3-18735c0144b5"
      },
      "execution_count": null,
      "outputs": [
        {
          "output_type": "display_data",
          "data": {
            "text/plain": [
              "<Figure size 432x288 with 1 Axes>"
            ],
            "image/png": "[encoded data removed]"
          },
          "metadata": {
            "needs_background": "light"
          }
        }
      ]
    },
    {
      "cell_type": "markdown",
      "source": [
        "# Multiple Points"
      ],
      "metadata": {
        "id": "379XWrDtd5Af"
      }
    },
    {
      "cell_type": "code",
      "source": [
        "import matplotlib.pyplot as plt\n",
        "import numpy as np\n",
        "\n",
        "xpoints = np.array([1, 2, 6, 8])\n",
        "ypoints = np.array([3, 8, 1, 10])\n",
        "\n",
        "plt.plot(xpoints, ypoints)\n",
        "plt.show()"
      ],
      "metadata": {
        "colab": {
          "base_uri": "https://localhost:8080/",
          "height": 265
        },
        "id": "oAT8AClXd5PF",
        "outputId": "8c5b45e6-1e2a-4b18-e14c-406642ece940"
      },
      "execution_count": null,
      "outputs": [
        {
          "output_type": "display_data",
          "data": {
            "text/plain": [
              "<Figure size 432x288 with 1 Axes>"
            ],
            "image/png": "[encoded data removed]"
          },
          "metadata": {
            "needs_background": "light"
          }
        }
      ]
    },
    {
      "cell_type": "markdown",
      "source": [
        "# Default X-Points"
      ],
      "metadata": {
        "id": "8bAqtxTbeDNI"
      }
    },
    {
      "cell_type": "code",
      "source": [
        "import matplotlib.pyplot as plt\n",
        "import numpy as np\n",
        "\n",
        "ypoints = np.array([3, 8, 1, 10, 5, 7])\n",
        "\n",
        "plt.plot(ypoints)\n",
        "plt.show()"
      ],
      "metadata": {
        "colab": {
          "base_uri": "https://localhost:8080/",
          "height": 265
        },
        "id": "boBBunDOeGGT",
        "outputId": "5e23db00-0b33-489e-bbae-a04ac281abaf"
      },
      "execution_count": null,
      "outputs": [
        {
          "output_type": "display_data",
          "data": {
            "text/plain": [
              "<Figure size 432x288 with 1 Axes>"
            ],
            "image/png": "[encoded data removed]"
          },
          "metadata": {
            "needs_background": "light"
          }
        }
      ]
    },
    {
      "cell_type": "code",
      "source": [
        "import matplotlib.pyplot as plt\n",
        "import numpy as np\n",
        "import random\n",
        "\n",
        "# --- Creating and Sampling from a Normal distribution\n",
        "mu1, sigma1 = 300, 150 # mean and standard deviation\n",
        "xpoints = np.random.normal(mu1, sigma1, 1000)\n",
        "\n",
        "mu2, sigma2 = 1000, 10 # mean and standard deviation\n",
        "ypoints = np.random.normal(mu2, sigma2, 1000)\n",
        "\n",
        "# --- Calculating statistics for the samples\n",
        "x_mean  = np.mean(xpoints)\n",
        "x_std   = np.std(xpoints)\n",
        "\n",
        "y_mean  = np.mean(ypoints)\n",
        "y_std   = np.std(ypoints)\n",
        "\n",
        "# --- Creating a 2d figure\n",
        "plt.figure(figsize=(15,15))\n",
        "plt.scatter(xpoints, ypoints)\n",
        "\n",
        "# --- Plotting X and Y means\n",
        "plt.plot([x_mean,x_mean],[min(ypoints),max(ypoints)],c='k',linestyle='--')\n",
        "plt.plot([min(xpoints),max(xpoints)],[y_mean,y_mean],c='k',linestyle='--')\n",
        "\n",
        "# --- Plotting X +/- std\n",
        "plt.plot([x_mean-(2*x_std),x_mean-(2*x_std)],[min(ypoints),max(ypoints)],c='k',linestyle=':')\n",
        "plt.plot([x_mean+(2*x_std),x_mean+(2*x_std)],[min(ypoints),max(ypoints)],c='k',linestyle=':')\n",
        "\n",
        "# --- Plotting Y +/- std\n",
        "plt.plot([min(xpoints),max(xpoints)],[y_mean-(2*y_std),y_mean-(2*y_std)],c='k',linestyle=':')\n",
        "plt.plot([min(xpoints),max(xpoints)],[y_mean+(2*y_std),y_mean+(2*y_std)],c='k',linestyle=':')\n",
        "\n",
        "# --- Setting X and Y limits\n",
        "plt.xlim([x_mean-(5*x_std),x_mean+(5*x_std)])\n",
        "plt.ylim([y_mean-(5*y_std),y_mean+(5*y_std)])\n",
        "\n",
        "# --- Display figure\n",
        "plt.show()"
      ],
      "metadata": {
        "colab": {
          "base_uri": "https://localhost:8080/",
          "height": 764
        },
        "id": "rsgtu1kpnKRV",
        "outputId": "e9061509-a6c7-409f-b4af-f2aa0f6ffe71"
      },
      "execution_count": null,
      "outputs": [
        {
          "output_type": "display_data",
          "data": {
            "text/plain": [
              "<Figure size 1080x1080 with 1 Axes>"
            ],
            "image/png": "[encoded data removed]"
          },
          "metadata": {
            "needs_background": "light"
          }
        }
      ]
    },
    {
      "cell_type": "markdown",
      "source": [
        "- Starting from the previous example\n",
        "- Finish the code below to:\n",
        "  - Include a 3rd list of elements\n",
        "  - Plot this information in a 3d figure\n",
        "\n",
        "- Tip: \n",
        "  - A 3d figure is already set\n",
        "  - Look the following link if you need an example of how to make a 3d plot:\n",
        "  https://matplotlib.org/stable/gallery/mplot3d/scatter3d.html"
      ],
      "metadata": {
        "id": "_ciyMYACswFu"
      }
    },
    {
      "cell_type": "code",
      "source": [
        "import matplotlib.pyplot as plt\n",
        "import numpy as np\n",
        "import random\n",
        "\n",
        "# --- Creating and Sampling from a Normal distribution\n",
        "mu1, sigma1 = 300, 150 # mean and standard deviation\n",
        "xpoints = np.random.normal(mu1, sigma1, 1000)\n",
        "\n",
        "mu2, sigma2 = 1000, 10 # mean and standard deviation\n",
        "ypoints = np.random.normal(mu2, sigma2, 1000)\n",
        "\n",
        "# --- Calculating statistics for the samples\n",
        "x_mean  = np.mean(xpoints)\n",
        "x_std   = np.std(xpoints)\n",
        "\n",
        "y_mean  = np.mean(ypoints)\n",
        "y_std   = np.std(ypoints)\n",
        "\n",
        "# --- Creating a 3d figure\n",
        "fig = plt.figure(figsize=(15,15))\n",
        "ax = fig.add_subplot(projection='3d')\n",
        "\n",
        "# --- Display figure\n",
        "plt.show()"
      ],
      "metadata": {
        "id": "Cmqt0qsCq-mB"
      },
      "execution_count": null,
      "outputs": []
    }
  ]
}