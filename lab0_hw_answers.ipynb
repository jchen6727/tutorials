{
  "nbformat": 4,
  "nbformat_minor": 0,
  "metadata": {
    "colab": {
      "provenance": [],
      "authorship_tag": "ABX9TyNyCGmK3crUT05RvHr25jVU",
      "include_colab_link": true
    },
    "kernelspec": {
      "name": "python3",
      "display_name": "Python 3"
    },
    "language_info": {
      "name": "python"
    }
  },
  "cells": [
    {
      "cell_type": "markdown",
      "metadata": {
        "id": "view-in-github",
        "colab_type": "text"
      },
      "source": [
        "<a href=\"https://colab.research.google.com/github/jchen6727/tutorials/blob/master/lab0_hw_answers.ipynb\" target=\"_parent\"><img src=\"https://colab.research.google.com/assets/colab-badge.svg\" alt=\"Open In Colab\"/></a>"
      ]
    },
    {
      "cell_type": "markdown",
      "source": [
        "#Homework Question 0:\n",
        "\n",
        "Let's practice -- create a new dictionary, `filtered` that only contains the `key:value` pairs from `trilogy` where `Martinsen, M` is one of the authors using an `if` statement in a `for` loop\n",
        "\n",
        "`filtered` should look like `reference`"
      ],
      "metadata": {
        "id": "yFl3228yqQgf"
      }
    },
    {
      "cell_type": "code",
      "source": [
        "from pprint import pprint\n",
        "trilogy = {\n",
        "  'book0': {'title': 'The Three-Body Problem', 'authors': ['Liu, C.', 'Liu, K'], 'isbn':9780765377067, 'published': 2014, 'publisher': 'TOR Publishing Group'},\n",
        "  'book1': {'title': 'The Dark Forest', 'authors': ['Liu, C.', 'Liu, K', 'Martinsen, M'], 'isbn':9780765377081, 'published': 2015, 'publisher': 'TOR Publishing Group'},\n",
        "  'book2': {'title': 'Deaths End', 'authors': ['Liu, C.', 'Liu, K', 'Martinsen, M'], 'isbn':9780765377104, 'published':2016, 'publisher': 'TOR Publishing Group'} }\n",
        "\n",
        "answer = {\n",
        "  'book1': {'title': 'The Dark Forest', 'authors': ['Liu, C.', 'Liu, K', 'Martinsen, M'], 'isbn':9780765377081, 'published': 2015, 'publisher': 'TOR Publishing Group'},\n",
        "  'book2': {'title': 'Deaths End', 'authors': ['Liu, C.', 'Liu, K', 'Martinsen, M'], 'isbn':9780765377104, 'published':2016, 'publisher': 'TOR Publishing Group'} }\n",
        "\n",
        "# try with a for loop, fill in the ...\n",
        "filtered = {}\n",
        "for book in trilogy:\n",
        "  if 'Martinsen, M' in trilogy[book]['authors']:\n",
        "    filtered[book] = trilogy[book]\n",
        "\n",
        "pprint(filtered)"
      ],
      "metadata": {
        "id": "NaMgOb5dqQLq",
        "colab": {
          "base_uri": "https://localhost:8080/"
        },
        "outputId": "fbc944ee-6d84-4eb8-dce5-8b61d24ea692"
      },
      "execution_count": 1,
      "outputs": [
        {
          "output_type": "stream",
          "name": "stdout",
          "text": [
            "{'book1': {'authors': ['Liu, C.', 'Liu, K', 'Martinsen, M'],\n",
            "           'isbn': 9780765377081,\n",
            "           'published': 2015,\n",
            "           'publisher': 'TOR Publishing Group',\n",
            "           'title': 'The Dark Forest'},\n",
            " 'book2': {'authors': ['Liu, C.', 'Liu, K', 'Martinsen, M'],\n",
            "           'isbn': 9780765377104,\n",
            "           'published': 2016,\n",
            "           'publisher': 'TOR Publishing Group',\n",
            "           'title': 'Deaths End'}}\n"
          ]
        }
      ]
    },
    {
      "cell_type": "markdown",
      "source": [
        "#Homework Question 1:\n",
        "\n",
        "Let's practice -- create a new dictionary, `filtered` that only contains the `key:value` pairs from `trilogy` where `Martinsen, M` is one of the authors using a list comprehension.\n",
        "\n",
        "`filtered` should look like `reference`"
      ],
      "metadata": {
        "id": "L8bzyn-pphS7"
      }
    },
    {
      "cell_type": "code",
      "execution_count": 2,
      "metadata": {
        "id": "k3YA8WzypPbx",
        "colab": {
          "base_uri": "https://localhost:8080/"
        },
        "outputId": "87547f9e-f5cd-4bc2-f937-40a15c3b2fb5"
      },
      "outputs": [
        {
          "output_type": "stream",
          "name": "stdout",
          "text": [
            "{'book1': {'authors': ['Liu, C.', 'Liu, K', 'Martinsen, M'],\n",
            "           'isbn': 9780765377081,\n",
            "           'published': 2015,\n",
            "           'publisher': 'TOR Publishing Group',\n",
            "           'title': 'The Dark Forest'},\n",
            " 'book2': {'authors': ['Liu, C.', 'Liu, K', 'Martinsen, M'],\n",
            "           'isbn': 9780765377104,\n",
            "           'published': 2016,\n",
            "           'publisher': 'TOR Publishing Group',\n",
            "           'title': 'Deaths End'}}\n"
          ]
        }
      ],
      "source": [
        "from pprint import pprint\n",
        "trilogy = {\n",
        "  'book0': {'title': 'The Three-Body Problem', 'authors': ['Liu, C.', 'Liu, K'], 'isbn':9780765377067, 'published': 2014, 'publisher': 'TOR Publishing Group'},\n",
        "  'book1': {'title': 'The Dark Forest', 'authors': ['Liu, C.', 'Liu, K', 'Martinsen, M'], 'isbn':9780765377081, 'published': 2015, 'publisher': 'TOR Publishing Group'},\n",
        "  'book2': {'title': 'Deaths End', 'authors': ['Liu, C.', 'Liu, K', 'Martinsen, M'], 'isbn':9780765377104, 'published':2016, 'publisher': 'TOR Publishing Group'} }\n",
        "\n",
        "reference = {\n",
        "  'book1': {'title': 'The Dark Forest', 'authors': ['Liu, C.', 'Liu, K', 'Martinsen, M'], 'isbn':9780765377081, 'published': 2015, 'publisher': 'TOR Publishing Group'},\n",
        "  'book2': {'title': 'Deaths End', 'authors': ['Liu, C.', 'Liu, K', 'Martinsen, M'], 'isbn':9780765377104, 'published':2016, 'publisher': 'TOR Publishing Group'} }\n",
        "\n",
        "# try with a list comprehension, fill in the ...\n",
        "filtered = {}\n",
        "filtered_books = [book for book in trilogy if 'Martinsen, M' in trilogy[book]['authors']]\n",
        "for book in filtered_books:\n",
        "  filtered[book] = trilogy[book]\n",
        "\n",
        "pprint(filtered)"
      ]
    },
    {
      "cell_type": "markdown",
      "source": [
        "#Homework Question 2:\n",
        "Let's practice -- create a new dictionary, `filtered` that only contains the `key:value` pairs from `trilogy` where `Martinsen, M` is one of the authors within the dictionary constructor (`{}`) itself.\n",
        "\n",
        "`filtered` should look like `reference`"
      ],
      "metadata": {
        "id": "cgSxYXI5qGYu"
      }
    },
    {
      "cell_type": "code",
      "source": [
        "from pprint import pprint\n",
        "trilogy = {\n",
        "  'book0': {'title': 'The Three-Body Problem', 'authors': ['Liu, C.', 'Liu, K'], 'isbn':9780765377067, 'published': 2014, 'publisher': 'TOR Publishing Group'},\n",
        "  'book1': {'title': 'The Dark Forest', 'authors': ['Liu, C.', 'Liu, K', 'Martinsen, M'], 'isbn':9780765377081, 'published': 2015, 'publisher': 'TOR Publishing Group'},\n",
        "  'book2': {'title': 'Deaths End', 'authors': ['Liu, C.', 'Liu, K', 'Martinsen, M'], 'isbn':9780765377104, 'published':2016, 'publisher': 'TOR Publishing Group'} }\n",
        "\n",
        "reference = {\n",
        "  'book1': {'title': 'The Dark Forest', 'authors': ['Liu, C.', 'Liu, K', 'Martinsen, M'], 'isbn':9780765377081, 'published': 2015, 'publisher': 'TOR Publishing Group'},\n",
        "  'book2': {'title': 'Deaths End', 'authors': ['Liu, C.', 'Liu, K', 'Martinsen, M'], 'isbn':9780765377104, 'published':2016, 'publisher': 'TOR Publishing Group'} }\n",
        "\n",
        "# try with a dictionary generator, fill in the ...\n",
        "filtered = {book: trilogy[book] for book in trilogy if 'Martinsen, M' in trilogy[book]['authors'] }\n",
        "\n",
        "pprint(filtered)"
      ],
      "metadata": {
        "id": "ZansTFyJq-a_",
        "colab": {
          "base_uri": "https://localhost:8080/"
        },
        "outputId": "1a6fde4c-71b0-44b7-ea7a-ecf96bd60125"
      },
      "execution_count": 3,
      "outputs": [
        {
          "output_type": "stream",
          "name": "stdout",
          "text": [
            "{'book1': {'authors': ['Liu, C.', 'Liu, K', 'Martinsen, M'],\n",
            "           'isbn': 9780765377081,\n",
            "           'published': 2015,\n",
            "           'publisher': 'TOR Publishing Group',\n",
            "           'title': 'The Dark Forest'},\n",
            " 'book2': {'authors': ['Liu, C.', 'Liu, K', 'Martinsen, M'],\n",
            "           'isbn': 9780765377104,\n",
            "           'published': 2016,\n",
            "           'publisher': 'TOR Publishing Group',\n",
            "           'title': 'Deaths End'}}\n"
          ]
        }
      ]
    },
    {
      "cell_type": "markdown",
      "source": [
        "#Lab Practice\n",
        "\n",
        "create a dictionary with KEY: VALUE pairs where the KEY is the tuple of values and the VALUE is a dictionary with the cellType and the layer as KEY: VALUE pairs.\n",
        "\n",
        "try creating the same dictionary as above but only with KEY: VALUE pairs of the 'IT' cellType"
      ],
      "metadata": {
        "id": "w_TcEZzvl40P"
      }
    },
    {
      "cell_type": "code",
      "source": [
        "from pprint import pprint\n",
        "\n",
        "pop_list = [('IT' , 'L23'),\n",
        "            ('IT' , 'L4' ),\n",
        "            ('IT' , 'L5A'),\n",
        "            ('PT' , 'L5B'),\n",
        "            ('CT' , 'L6' ),\n",
        "            ('PV' , 'L23'),\n",
        "            ('SOM', 'L23'),\n",
        "            ('PV' , 'L5' ),\n",
        "           ]\n",
        "\"\"\"\n",
        "ref_dict = {\n",
        "  ('CT', 'L6'): {'cellType': 'CT', 'layer': 'L6'},\n",
        "  ('IT', 'L23'): {'cellType': 'IT', 'layer': 'L23'},\n",
        "  ('IT', 'L4'): {'cellType': 'IT', 'layer': 'L4'},\n",
        "  ('IT', 'L5A'): {'cellType': 'IT', 'layer': 'L5A'},\n",
        "  ('PT', 'L5B'): {'cellType': 'PT', 'layer': 'L5B'},\n",
        "  ('PV', 'L23'): {'cellType': 'PV', 'layer': 'L23'},\n",
        "  ('PV', 'L5'): {'cellType': 'PV', 'layer': 'L5'},\n",
        "  ('SOM', 'L23'): {'cellType': 'SOM', 'layer': 'L23'}\n",
        "}\n",
        "\"\"\"\n",
        "\n",
        "pop_dict = { pop: {'cellType': pop[0] ,'layer': pop[1]} for pop in pop_list}\n",
        "print(\"first dictionary\")\n",
        "pprint(pop_dict)\n",
        "\n",
        "pop_dict_IT_only = { pop: {'cellType': pop[0] ,'layer': pop[1]} for pop in pop_list if pop[0] == 'IT'}\n",
        "print(\"IT only dictionary\")\n",
        "pprint(pop_dict_IT_only)"
      ],
      "metadata": {
        "colab": {
          "base_uri": "https://localhost:8080/"
        },
        "id": "QwDA-H-Gl2Vi",
        "outputId": "f0b1c3a1-f0be-4a13-a2be-4bdc59c51385"
      },
      "execution_count": 6,
      "outputs": [
        {
          "output_type": "stream",
          "name": "stdout",
          "text": [
            "first dictionary\n",
            "{('CT', 'L6'): {'cellType': 'CT', 'layer': 'L6'},\n",
            " ('IT', 'L23'): {'cellType': 'IT', 'layer': 'L23'},\n",
            " ('IT', 'L4'): {'cellType': 'IT', 'layer': 'L4'},\n",
            " ('IT', 'L5A'): {'cellType': 'IT', 'layer': 'L5A'},\n",
            " ('PT', 'L5B'): {'cellType': 'PT', 'layer': 'L5B'},\n",
            " ('PV', 'L23'): {'cellType': 'PV', 'layer': 'L23'},\n",
            " ('PV', 'L5'): {'cellType': 'PV', 'layer': 'L5'},\n",
            " ('SOM', 'L23'): {'cellType': 'SOM', 'layer': 'L23'}}\n",
            "IT only dictionary\n",
            "{('IT', 'L23'): {'cellType': 'IT', 'layer': 'L23'},\n",
            " ('IT', 'L4'): {'cellType': 'IT', 'layer': 'L4'},\n",
            " ('IT', 'L5A'): {'cellType': 'IT', 'layer': 'L5A'}}\n"
          ]
        }
      ]
    },
    {
      "cell_type": "code",
      "source": [],
      "metadata": {
        "id": "eJJkqo6DoHtY"
      },
      "execution_count": null,
      "outputs": []
    }
  ]
}